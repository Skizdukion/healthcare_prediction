{
 "cells": [
  {
   "cell_type": "code",
   "execution_count": 1,
   "metadata": {},
   "outputs": [],
   "source": [
    "import findspark\n",
    "findspark.init()\n",
    "import pyspark\n",
    "from pyspark.sql import SparkSession\n",
    "from pyspark.sql.functions import explode\n",
    "from pyspark.sql.functions import split\n",
    "\n",
    "spark = SparkSession \\\n",
    "    .builder \\\n",
    "    .appName(\"HealthCarePrediction\") \\\n",
    "    .getOrCreate()"
   ]
  },
  {
   "cell_type": "code",
   "execution_count": 3,
   "metadata": {},
   "outputs": [],
   "source": [
    "from pyspark.sql.functions import regexp_extract\n",
    "from functools import partial\n",
    "\n",
    "inputStream = spark \\\n",
    "    .readStream \\\n",
    "    .format(\"socket\") \\\n",
    "    .option(\"host\", \"localhost\") \\\n",
    "    .option(\"port\", 9999) \\\n",
    "    .load() \\\n",
    "\n",
    "fields = partial(\n",
    "    regexp_extract, str=\"value\", pattern=\"^(\\w*)\\s*,\\s*(\\d+\\.?\\d*)\\s*,\\s*(\\d+\\.?\\d*)\\s*,\\s*(\\d+\\.?\\d*)\\s*,\\s*(\\d+\\.?\\d*)\\s*,\\s*(\\d+\\.?\\d*)\\s*,\\s*(\\d+\\.?\\d*)\\s*,\\s*(\\d+\\.?\\d*)\\s*,\\s*(\\d+\\.?\\d*)\\s*,\\s*(\\d+\\.?\\d*)\\s*,\\s*(\\d+\\.?\\d*)\"\n",
    ")\n",
    "\n",
    "topic = inputStream.select(\n",
    "    fields(idx=1).alias(\"id\"),\n",
    "    fields(idx=2).cast('long').alias(\"gender\"), \n",
    "    fields(idx=3).cast('double').alias(\"age\"), \n",
    "    fields(idx=4).cast('long').alias(\"hypertension\"),\n",
    "    fields(idx=5).cast('long').alias(\"heart_disease\"),\n",
    "    fields(idx=6).cast('long').alias(\"ever_married\"),\n",
    "    fields(idx=7).cast('long').alias(\"work_type\"),\n",
    "    fields(idx=8).cast('long').alias(\"Residence_type\"),\n",
    "    fields(idx=9).cast('double').alias(\"avg_glucose_level\"),\n",
    "    fields(idx=10).cast('double').alias(\"bmi\"),\n",
    "    fields(idx=11).cast('long').alias(\"smoking_status\")\n",
    ")"
   ]
  },
  {
   "cell_type": "code",
   "execution_count": 4,
   "metadata": {},
   "outputs": [],
   "source": [
    "query = topic \\\n",
    "    .writeStream \\\n",
    "    .queryName(\"healthCare\")\\\n",
    "    .outputMode(\"append\") \\\n",
    "    .format(\"memory\") \\\n",
    "    .start()"
   ]
  },
  {
   "cell_type": "code",
   "execution_count": 5,
   "metadata": {},
   "outputs": [
    {
     "name": "stdout",
     "output_type": "stream",
     "text": [
      "+----+------+----+------------+-------------+------------+---------+--------------+-----------------+----+--------------+\n",
      "|  id|gender| age|hypertension|heart_disease|ever_married|work_type|Residence_type|avg_glucose_level| bmi|smoking_status|\n",
      "+----+------+----+------------+-------------+------------+---------+--------------+-----------------+----+--------------+\n",
      "|9046|     0|0.08|           0|            0|           0|        1|             1|           139.67|14.1|             0|\n",
      "|9047|     0| 5.0|           0|            0|           0|        1|             1|           139.67|14.1|             0|\n",
      "+----+------+----+------------+-------------+------------+---------+--------------+-----------------+----+--------------+\n",
      "\n"
     ]
    },
    {
     "data": {
      "text/plain": [
       "None"
      ]
     },
     "metadata": {},
     "output_type": "display_data"
    }
   ],
   "source": [
    "display(spark.sql(f\"SELECT * FROM {query.name}\").show())"
   ]
  }
 ],
 "metadata": {
  "interpreter": {
   "hash": "df989ace8a8da28cb7f7d1a12e3b4afec8c680846e24e9f4f7f420bf9f1fadcc"
  },
  "kernelspec": {
   "display_name": "Python 3.8.1 32-bit",
   "language": "python",
   "name": "python3"
  },
  "language_info": {
   "codemirror_mode": {
    "name": "ipython",
    "version": 3
   },
   "file_extension": ".py",
   "mimetype": "text/x-python",
   "name": "python",
   "nbconvert_exporter": "python",
   "pygments_lexer": "ipython3",
   "version": "3.8.1"
  },
  "orig_nbformat": 4
 },
 "nbformat": 4,
 "nbformat_minor": 2
}
