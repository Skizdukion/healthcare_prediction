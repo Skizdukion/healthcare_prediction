{
 "cells": [
  {
   "cell_type": "code",
   "execution_count": 2,
   "id": "9de3e245",
   "metadata": {},
   "outputs": [],
   "source": [
    "import findspark\n",
    "findspark.init()\n",
    "from pyspark.sql import SparkSession\n",
    "spark = SparkSession.builder.master(\"local[*]\").appName(\"Source\").getOrCreate()"
   ]
  },
  {
   "cell_type": "code",
   "execution_count": 4,
   "id": "518af5eb",
   "metadata": {},
   "outputs": [],
   "source": [
    "from __future__ import print_function\n",
    "\n",
    "import seaborn as sns\n",
    "import matplotlib.pyplot as plt\n",
    "import pandas as pd\n",
    "import numpy as np\n",
    "from imblearn.over_sampling import SMOTE\n",
    "import warnings\n",
    "import math \n",
    "import pyspark.sql.functions as F"
   ]
  },
  {
   "cell_type": "code",
   "execution_count": 5,
   "id": "b3eb37f1",
   "metadata": {},
   "outputs": [
    {
     "name": "stdout",
     "output_type": "stream",
     "text": [
      "root\n",
      " |-- id: integer (nullable = true)\n",
      " |-- gender: string (nullable = true)\n",
      " |-- age: double (nullable = true)\n",
      " |-- hypertension: integer (nullable = true)\n",
      " |-- heart_disease: integer (nullable = true)\n",
      " |-- ever_married: string (nullable = true)\n",
      " |-- work_type: string (nullable = true)\n",
      " |-- Residence_type: string (nullable = true)\n",
      " |-- avg_glucose_level: double (nullable = true)\n",
      " |-- bmi: string (nullable = true)\n",
      " |-- smoking_status: string (nullable = true)\n",
      " |-- stroke: integer (nullable = true)\n",
      "\n"
     ]
    },
    {
     "data": {
      "text/plain": [
       "5110"
      ]
     },
     "execution_count": 5,
     "metadata": {},
     "output_type": "execute_result"
    }
   ],
   "source": [
    "rawData = spark.read.format(\"csv\")\\\n",
    "    .option(\"header\", \"true\")\\\n",
    "    .option(\"inferSchema\", \"true\")\\\n",
    "    .load(\"./healthcare-dataset-stroke-data.csv\")\n",
    "rawData.printSchema()\n",
    "rawData.count()"
   ]
  },
  {
   "cell_type": "code",
   "execution_count": 6,
   "id": "18e8425f",
   "metadata": {},
   "outputs": [
    {
     "name": "stdout",
     "output_type": "stream",
     "text": [
      "+------+-----+\n",
      "|gender|count|\n",
      "+------+-----+\n",
      "| Other|    1|\n",
      "|  Male| 2115|\n",
      "|Female| 2994|\n",
      "+------+-----+\n",
      "\n"
     ]
    }
   ],
   "source": [
    "rawData.groupBy('gender').count().orderBy('gender', ascending=False).show()"
   ]
  },
  {
   "cell_type": "code",
   "execution_count": 7,
   "id": "a53a794e",
   "metadata": {},
   "outputs": [
    {
     "name": "stdout",
     "output_type": "stream",
     "text": [
      "+------------+-----+\n",
      "|hypertension|count|\n",
      "+------------+-----+\n",
      "|           1|  498|\n",
      "|           0| 4612|\n",
      "+------------+-----+\n",
      "\n"
     ]
    }
   ],
   "source": [
    "rawData.groupBy('hypertension').count().orderBy('hypertension', ascending=False).show()"
   ]
  },
  {
   "cell_type": "code",
   "execution_count": 8,
   "id": "8b47768d",
   "metadata": {},
   "outputs": [
    {
     "name": "stdout",
     "output_type": "stream",
     "text": [
      "+-------------+-----+\n",
      "|heart_disease|count|\n",
      "+-------------+-----+\n",
      "|            1|  276|\n",
      "|            0| 4834|\n",
      "+-------------+-----+\n",
      "\n"
     ]
    }
   ],
   "source": [
    "rawData.groupBy('heart_disease').count().orderBy('heart_disease', ascending=False).show()"
   ]
  },
  {
   "cell_type": "code",
   "execution_count": 9,
   "id": "c4640e9c",
   "metadata": {},
   "outputs": [
    {
     "name": "stdout",
     "output_type": "stream",
     "text": [
      "+------------+-----+\n",
      "|ever_married|count|\n",
      "+------------+-----+\n",
      "|         Yes| 3353|\n",
      "|          No| 1757|\n",
      "+------------+-----+\n",
      "\n"
     ]
    }
   ],
   "source": [
    "rawData.groupBy('ever_married').count().orderBy('ever_married', ascending=False).show()"
   ]
  },
  {
   "cell_type": "code",
   "execution_count": 10,
   "id": "e8e3f63b",
   "metadata": {},
   "outputs": [
    {
     "name": "stdout",
     "output_type": "stream",
     "text": [
      "+-------------+-----+\n",
      "|    work_type|count|\n",
      "+-------------+-----+\n",
      "|     children|  687|\n",
      "|Self-employed|  819|\n",
      "|      Private| 2925|\n",
      "| Never_worked|   22|\n",
      "|     Govt_job|  657|\n",
      "+-------------+-----+\n",
      "\n"
     ]
    }
   ],
   "source": [
    "rawData.groupBy('work_type').count().orderBy('work_type', ascending=False).show()"
   ]
  },
  {
   "cell_type": "code",
   "execution_count": 11,
   "id": "d7bbd457",
   "metadata": {},
   "outputs": [
    {
     "name": "stdout",
     "output_type": "stream",
     "text": [
      "+--------------+-----+\n",
      "|Residence_type|count|\n",
      "+--------------+-----+\n",
      "|         Urban| 2596|\n",
      "|         Rural| 2514|\n",
      "+--------------+-----+\n",
      "\n"
     ]
    }
   ],
   "source": [
    "rawData.groupBy('Residence_type').count().orderBy('Residence_type', ascending=False).show()"
   ]
  },
  {
   "cell_type": "code",
   "execution_count": 12,
   "id": "184c4c18",
   "metadata": {},
   "outputs": [
    {
     "name": "stdout",
     "output_type": "stream",
     "text": [
      "+---------------+-----+\n",
      "| smoking_status|count|\n",
      "+---------------+-----+\n",
      "|         smokes|  789|\n",
      "|   never smoked| 1892|\n",
      "|formerly smoked|  885|\n",
      "|        Unknown| 1544|\n",
      "+---------------+-----+\n",
      "\n"
     ]
    }
   ],
   "source": [
    "rawData.groupBy('smoking_status').count().orderBy('smoking_status', ascending=False).show()"
   ]
  },
  {
   "cell_type": "code",
   "execution_count": 13,
   "id": "395bcdda",
   "metadata": {},
   "outputs": [
    {
     "name": "stdout",
     "output_type": "stream",
     "text": [
      "+------+-----+\n",
      "|stroke|count|\n",
      "+------+-----+\n",
      "|     1|  249|\n",
      "|     0| 4861|\n",
      "+------+-----+\n",
      "\n"
     ]
    }
   ],
   "source": [
    "rawData.groupBy('stroke').count().orderBy('stroke', ascending=False).show()"
   ]
  },
  {
   "cell_type": "code",
   "execution_count": 14,
   "id": "557b2692",
   "metadata": {},
   "outputs": [
    {
     "data": {
      "text/html": [
       "<div>\n",
       "<style scoped>\n",
       "    .dataframe tbody tr th:only-of-type {\n",
       "        vertical-align: middle;\n",
       "    }\n",
       "\n",
       "    .dataframe tbody tr th {\n",
       "        vertical-align: top;\n",
       "    }\n",
       "\n",
       "    .dataframe thead th {\n",
       "        text-align: right;\n",
       "    }\n",
       "</style>\n",
       "<table border=\"1\" class=\"dataframe\">\n",
       "  <thead>\n",
       "    <tr style=\"text-align: right;\">\n",
       "      <th></th>\n",
       "      <th>bmi</th>\n",
       "    </tr>\n",
       "  </thead>\n",
       "  <tbody>\n",
       "    <tr>\n",
       "      <th>count</th>\n",
       "      <td>4909.000000</td>\n",
       "    </tr>\n",
       "    <tr>\n",
       "      <th>mean</th>\n",
       "      <td>28.893237</td>\n",
       "    </tr>\n",
       "    <tr>\n",
       "      <th>std</th>\n",
       "      <td>7.854067</td>\n",
       "    </tr>\n",
       "    <tr>\n",
       "      <th>min</th>\n",
       "      <td>10.300000</td>\n",
       "    </tr>\n",
       "    <tr>\n",
       "      <th>25%</th>\n",
       "      <td>23.500000</td>\n",
       "    </tr>\n",
       "    <tr>\n",
       "      <th>50%</th>\n",
       "      <td>28.100000</td>\n",
       "    </tr>\n",
       "    <tr>\n",
       "      <th>75%</th>\n",
       "      <td>33.100000</td>\n",
       "    </tr>\n",
       "    <tr>\n",
       "      <th>max</th>\n",
       "      <td>97.600000</td>\n",
       "    </tr>\n",
       "  </tbody>\n",
       "</table>\n",
       "</div>"
      ],
      "text/plain": [
       "               bmi\n",
       "count  4909.000000\n",
       "mean     28.893237\n",
       "std       7.854067\n",
       "min      10.300000\n",
       "25%      23.500000\n",
       "50%      28.100000\n",
       "75%      33.100000\n",
       "max      97.600000"
      ]
     },
     "execution_count": 14,
     "metadata": {},
     "output_type": "execute_result"
    }
   ],
   "source": [
    "rawData.select('bmi').filter(rawData['bmi']!= \"N/A\").toPandas().astype(float).describe()"
   ]
  },
  {
   "cell_type": "code",
   "execution_count": 15,
   "id": "74820c9d",
   "metadata": {},
   "outputs": [
    {
     "data": {
      "text/plain": [
       "4908"
      ]
     },
     "execution_count": 15,
     "metadata": {},
     "output_type": "execute_result"
    }
   ],
   "source": [
    "rawData = rawData.filter(rawData['bmi'] != \"N/A\")\n",
    "rawData = rawData.filter(rawData['gender'] != \"Other\")\n",
    "rawData.count()"
   ]
  },
  {
   "cell_type": "code",
   "execution_count": 16,
   "id": "e8292fcb",
   "metadata": {},
   "outputs": [
    {
     "name": "stdout",
     "output_type": "stream",
     "text": [
      "root\n",
      " |-- gender: string (nullable = true)\n",
      " |-- age: double (nullable = true)\n",
      " |-- hypertension: integer (nullable = true)\n",
      " |-- heart_disease: integer (nullable = true)\n",
      " |-- ever_married: string (nullable = true)\n",
      " |-- work_type: string (nullable = true)\n",
      " |-- Residence_type: string (nullable = true)\n",
      " |-- avg_glucose_level: double (nullable = true)\n",
      " |-- bmi: string (nullable = true)\n",
      " |-- smoking_status: string (nullable = true)\n",
      " |-- stroke: integer (nullable = true)\n",
      "\n"
     ]
    }
   ],
   "source": [
    "rawData = rawData.drop('id')\n",
    "rawData.printSchema()"
   ]
  },
  {
   "cell_type": "code",
   "execution_count": 17,
   "id": "2ada4bfe",
   "metadata": {},
   "outputs": [
    {
     "data": {
      "text/plain": [
       "4908"
      ]
     },
     "execution_count": 17,
     "metadata": {},
     "output_type": "execute_result"
    }
   ],
   "source": [
    "Data = rawData.withColumn('ever_married', F.when(rawData['ever_married'] == \"Yes\", 1)\\\n",
    "                        .otherwise(0))\n",
    "Data = Data.withColumn('gender', F.when(rawData['gender'] == 'Male', 1)\\\n",
    "                       .otherwise(0))\n",
    "Data = Data.withColumn('Residence_type', F.when(rawData['Residence_type'] == 'Urban', 1)\\\n",
    "                       .otherwise(0))\n",
    "Data = Data.withColumn('work_type', F.when(rawData['work_type'] == 'Never_worked', 0)\\\n",
    "                       .when(rawData['work_type'] == 'children', 1)\\\n",
    "                       .when(rawData['work_type'] == 'Private', 2)\\\n",
    "                       .when(rawData['work_type'] == 'Govt_job', 3)\\\n",
    "                       .when(rawData['work_type'] == 'Self-employed', 4))\n",
    "Data = Data.withColumn('smoking_status', F.when(rawData['smoking_status'] == 'Unknown', 0)\\\n",
    "                       .when(rawData['smoking_status'] == 'never smoked', 1)\\\n",
    "                       .when(rawData['smoking_status'] == 'smokes', 2)\\\n",
    "                       .when(rawData['smoking_status'] == 'formerly smoked', 3))\n",
    "Data.count()"
   ]
  },
  {
   "cell_type": "code",
   "execution_count": 7,
   "id": "6e494bbe",
   "metadata": {},
   "outputs": [
    {
     "name": "stdout",
     "output_type": "stream",
     "text": [
      "So lan xuat hien cua stroke la 0:  4699\n",
      "So lan xuat hien cua stroke la 1:  209\n"
     ]
    }
   ],
   "source": [
    "print (\"So lan xuat hien cua stroke la 0: \",Data.filter(Data['stroke'] == 0).count())\n",
    "print (\"So lan xuat hien cua stroke la 1: \",Data.filter(Data['stroke'] == 1).count())"
   ]
  },
  {
   "cell_type": "code",
   "execution_count": 18,
   "id": "db76386e",
   "metadata": {},
   "outputs": [
    {
     "name": "stdout",
     "output_type": "stream",
     "text": [
      "So lan xuat hien cua stroke la 0:  4699\n",
      "So lan xuat hien cua stroke la 1:  4699\n"
     ]
    }
   ],
   "source": [
    "X = Data.drop('stroke')\n",
    "Y = Data.select('stroke')\n",
    "stk = SMOTE(random_state=42)\n",
    "X_res,y_res = stk.fit_resample(X.toPandas(),Y.toPandas())\n",
    "joinDF = pd.concat([X_res, y_res], axis=1, join=\"inner\")\n",
    "balancedData = spark.createDataFrame(joinDF)\n",
    "print (\"So lan xuat hien cua stroke la 0: \",balancedData.filter(balancedData['stroke'] == 0).count())\n",
    "print (\"So lan xuat hien cua stroke la 1: \",balancedData.filter(balancedData['stroke'] == 1).count())"
   ]
  },
  {
   "cell_type": "code",
   "execution_count": 61,
   "id": "9bcab7de",
   "metadata": {},
   "outputs": [
    {
     "name": "stdout",
     "output_type": "stream",
     "text": [
      "root\n",
      " |-- gender: long (nullable = true)\n",
      " |-- age: double (nullable = true)\n",
      " |-- hypertension: long (nullable = true)\n",
      " |-- heart_disease: long (nullable = true)\n",
      " |-- ever_married: long (nullable = true)\n",
      " |-- work_type: long (nullable = true)\n",
      " |-- Residence_type: long (nullable = true)\n",
      " |-- avg_glucose_level: double (nullable = true)\n",
      " |-- bmi: double (nullable = true)\n",
      " |-- smoking_status: long (nullable = true)\n",
      " |-- stroke: long (nullable = true)\n",
      "\n"
     ]
    }
   ],
   "source": [
    "balancedData.printSchema()"
   ]
  },
  {
   "cell_type": "code",
   "execution_count": 51,
   "id": "8a765ef7",
   "metadata": {},
   "outputs": [
    {
     "name": "stdout",
     "output_type": "stream",
     "text": [
      "+------+------------------+------------+-------------+------------+---------+--------------+------------------+------------------+--------------+------+\n",
      "|gender|               age|hypertension|heart_disease|ever_married|work_type|Residence_type| avg_glucose_level|               bmi|smoking_status|stroke|\n",
      "+------+------------------+------------+-------------+------------+---------+--------------+------------------+------------------+--------------+------+\n",
      "|     1|              67.0|           0|            1|           1|        2|             1|            228.69|              36.6|             3|     1|\n",
      "|     1|              80.0|           0|            1|           1|        2|             0|            105.92|              32.5|             1|     1|\n",
      "|     0|              49.0|           0|            0|           1|        2|             1|            171.23|              34.4|             2|     1|\n",
      "|     0|              79.0|           1|            0|           1|        4|             0|            174.12|              24.0|             1|     1|\n",
      "|     1|              81.0|           0|            0|           1|        2|             1|            186.21|              29.0|             3|     1|\n",
      "|     1|              74.0|           1|            1|           1|        2|             0|             70.09|              27.4|             1|     1|\n",
      "|     0|              69.0|           0|            0|           0|        2|             1|             94.39|              22.8|             1|     1|\n",
      "|     0|              78.0|           0|            0|           1|        2|             1|             58.57|              24.2|             0|     1|\n",
      "|     0|              81.0|           1|            0|           1|        2|             0|             80.43|              29.7|             1|     1|\n",
      "|     0|              61.0|           0|            1|           1|        3|             0|            120.46|              36.8|             2|     1|\n",
      "|     0|              54.0|           0|            0|           1|        2|             1|            104.51|              27.3|             2|     1|\n",
      "|     0|              79.0|           0|            1|           1|        2|             1|            214.09|              28.2|             1|     1|\n",
      "|     0|              50.0|           1|            0|           1|        4|             0|            167.41|              30.9|             1|     1|\n",
      "|     1|              64.0|           0|            1|           1|        2|             1|            191.61|              37.5|             2|     1|\n",
      "|     1|              75.0|           1|            0|           1|        2|             1|            221.29|              25.8|             2|     1|\n",
      "|     0|              60.0|           0|            0|           0|        2|             1|             89.22|              37.8|             1|     1|\n",
      "|     0|              71.0|           0|            0|           1|        3|             0|            193.94|              22.4|             2|     1|\n",
      "|     0|              52.0|           1|            0|           1|        4|             1|            233.29|              48.9|             1|     1|\n",
      "|     0|              79.0|           0|            0|           1|        4|             1|             228.7|              26.6|             1|     1|\n",
      "|     1|              82.0|           0|            1|           1|        2|             0|             208.3|              32.5|             0|     1|\n",
      "|     1|              71.0|           0|            0|           1|        2|             1|            102.87|              27.2|             3|     1|\n",
      "|     1|              80.0|           0|            0|           1|        4|             0|            104.12|              23.5|             1|     1|\n",
      "|     0|              65.0|           0|            0|           1|        2|             0|            100.98|              28.2|             3|     1|\n",
      "|     1|              69.0|           0|            1|           1|        4|             1|            195.23|              28.3|             2|     1|\n",
      "|     1|              57.0|           1|            0|           1|        2|             1|            212.08|              44.2|             2|     1|\n",
      "|     1|              42.0|           0|            0|           1|        2|             0|             83.41|              25.4|             0|     1|\n",
      "|     0|              82.0|           1|            0|           1|        4|             1|            196.92|              22.2|             1|     1|\n",
      "|     1|              80.0|           0|            1|           1|        4|             1|            252.72|              30.5|             3|     1|\n",
      "|     1|              48.0|           0|            0|           0|        3|             1|              84.2|              29.7|             1|     1|\n",
      "|     0|              82.0|           1|            1|           0|        2|             0|             84.03|              26.5|             3|     1|\n",
      "|     1|              74.0|           0|            0|           1|        2|             0|            219.72|              33.7|             3|     1|\n",
      "|     0|              72.0|           1|            0|           1|        2|             0|             74.63|              23.1|             3|     1|\n",
      "|     1|              58.0|           0|            0|           0|        2|             0|             92.62|              32.0|             0|     1|\n",
      "|     0|              49.0|           0|            0|           1|        2|             1|             60.91|              29.9|             1|     1|\n",
      "|     1|              78.0|           0|            0|           1|        2|             0|             78.03|              23.9|             3|     1|\n",
      "|     1|              54.0|           0|            0|           1|        2|             1|             71.22|              28.5|             1|     1|\n",
      "|     1|              82.0|           0|            1|           1|        2|             1|             144.9|              26.4|             2|     1|\n",
      "|     1|              60.0|           1|            0|           1|        3|             1|            213.03|              20.2|             2|     1|\n",
      "|     1|              76.0|           1|            0|           1|        2|             0|            243.58|              33.6|             1|     1|\n",
      "|     0|              58.0|           0|            0|           1|        2|             1|            107.26|              38.6|             3|     1|\n",
      "|     1|              81.0|           0|            0|           1|        4|             1|             99.33|              33.7|             1|     1|\n",
      "|     0|              39.0|           1|            0|           1|        2|             0|             58.09|              39.2|             2|     1|\n",
      "|     0|              79.0|           0|            1|           1|        2|             0|            127.29|              27.7|             1|     1|\n",
      "|     0|              77.0|           1|            0|           1|        4|             1|            124.13|              31.4|             1|     1|\n",
      "|     1|              63.0|           0|            1|           1|        2|             0|            196.71|              36.5|             3|     1|\n",
      "|     0|              82.0|           0|            0|           1|        2|             0|             59.32|              33.2|             1|     1|\n",
      "|     1|              73.0|           1|            0|           1|        4|             1|            194.99|              32.8|             1|     1|\n",
      "|     0|              54.0|           1|            0|           1|        3|             1|            180.93|              27.7|             1|     1|\n",
      "|     0|              56.0|           0|            0|           1|        2|             1|            185.17|              40.4|             3|     1|\n",
      "|     0|              80.0|           1|            0|           1|        2|             0|              74.9|              22.2|             1|     1|\n",
      "|     0|              67.0|           1|            0|           1|        4|             0|             61.94|              25.3|             2|     1|\n",
      "|     0|              45.0|           0|            0|           1|        2|             0|             93.72|              30.2|             3|     1|\n",
      "|     1|              78.0|           1|            0|           0|        2|             1|            113.01|              24.0|             1|     1|\n",
      "|     0|              70.0|           0|            0|           1|        2|             1|            221.58|              47.5|             1|     1|\n",
      "|     1|              76.0|           0|            0|           1|        2|             1|            104.47|              20.3|             0|     1|\n",
      "|     1|              59.0|           0|            0|           1|        2|             1|             86.23|              30.0|             3|     1|\n",
      "|     0|              80.0|           1|            0|           1|        4|             0|             72.67|              28.9|             1|     1|\n",
      "|     0|              67.0|           1|            0|           1|        2|             0|            179.12|              28.1|             3|     1|\n",
      "|     0|              66.0|           1|            0|           1|        3|             0|            116.55|              31.1|             3|     1|\n",
      "|     1|              63.0|           0|            0|           1|        2|             0|            228.56|              27.4|             1|     1|\n",
      "|     0|              52.0|           0|            0|           1|        2|             0|             96.59|              26.4|             1|     1|\n",
      "|     0|              80.0|           0|            1|           1|        4|             0|             66.72|              21.7|             3|     1|\n",
      "|     1|              80.0|           1|            0|           1|        2|             1|            240.09|              27.0|             1|     1|\n",
      "|     0|              79.0|           0|            0|           1|        2|             1|            110.85|              24.1|             3|     1|\n",
      "|     1|              43.0|           0|            0|           1|        4|             1|            143.43|              45.9|             0|     1|\n",
      "|     1|              59.0|           0|            0|           1|        2|             0|             96.16|              44.1|             0|     1|\n",
      "|     0|              79.0|           0|            0|           0|        2|             0|             88.92|              22.9|             1|     1|\n",
      "|     0|              68.0|           1|            0|           0|        4|             1|             79.79|              29.7|             1|     1|\n",
      "|     1|              54.0|           0|            0|           1|        2|             0|             96.97|              29.1|             2|     1|\n",
      "|     1|              61.0|           0|            1|           1|        2|             0|            111.81|              27.3|             2|     1|\n",
      "|     0|              70.0|           0|            1|           1|        2|             0|             59.35|              32.3|             3|     1|\n",
      "|     1|              47.0|           0|            0|           1|        2|             1|             86.94|              41.1|             3|     1|\n",
      "|     1|              74.0|           0|            0|           1|        2|             1|             98.55|              25.6|             0|     1|\n",
      "|     0|              79.0|           0|            1|           1|        2|             1|            226.98|              29.8|             1|     1|\n",
      "|     1|              81.0|           0|            0|           1|        2|             1|             72.81|              26.3|             1|     1|\n",
      "|     0|              57.0|           0|            0|           0|        4|             1|             68.02|              37.5|             1|     1|\n",
      "|     0|              80.0|           1|            0|           1|        4|             1|             68.56|              26.2|             0|     1|\n",
      "|     1|              45.0|           0|            0|           1|        2|             0|             64.14|              29.4|             1|     1|\n",
      "|     0|              78.0|           0|            0|           1|        2|             0|            235.63|              32.3|             1|     1|\n",
      "|     0|              70.0|           0|            0|           1|        4|             0|             76.34|              24.4|             3|     1|\n",
      "|     1|              58.0|           0|            1|           1|        2|             0|            240.59|              31.4|             2|     1|\n",
      "|     1|              57.0|           1|            0|           1|        3|             1|             78.92|              27.7|             3|     1|\n",
      "|     0|              69.0|           0|            0|           1|        3|             1|             82.81|              28.0|             1|     1|\n",
      "|     1|              64.0|           0|            1|           1|        3|             1|              74.1|              28.8|             0|     1|\n",
      "|     0|              77.0|           0|            0|           1|        3|             0|            190.32|              31.4|             1|     1|\n",
      "|     0|              74.0|           0|            0|           1|        2|             0|            231.61|              34.6|             3|     1|\n",
      "|     0|              81.0|           0|            1|           1|        4|             0|              78.7|              19.4|             0|     1|\n",
      "|     0|              57.0|           0|            0|           1|        3|             1|            110.52|              28.5|             0|     1|\n",
      "|     0|              50.0|           1|            0|           1|        2|             0|             73.18|              30.3|             3|     1|\n",
      "|     0|              54.0|           0|            0|           1|        4|             0|            191.82|              40.4|             2|     1|\n",
      "|     0|              79.0|           0|            0|           1|        2|             0|             93.05|              24.2|             1|     1|\n",
      "|     0|              53.0|           0|            0|           1|        3|             1|             64.17|              41.5|             1|     1|\n",
      "|     1|              79.0|           0|            1|           1|        2|             0|            129.98|              22.6|             3|     1|\n",
      "|     1|              80.0|           0|            1|           1|        2|             1|             68.53|              24.2|             2|     1|\n",
      "|     0|              45.0|           0|            0|           1|        2|             0|             224.1|              56.6|             1|     1|\n",
      "|     0|              68.0|           0|            0|           0|        3|             1|              82.1|              27.1|             0|     1|\n",
      "|     1|              71.0|           1|            1|           0|        3|             0|            216.94|              30.9|             1|     1|\n",
      "|     1|              61.0|           1|            0|           1|        4|             0|             76.11|              27.3|             2|     1|\n",
      "|     1|              74.0|           0|            0|           1|        2|             1|             72.96|              31.3|             2|     1|\n",
      "|     0|              38.0|           0|            0|           0|        4|             1|             82.28|              24.0|             3|     1|\n",
      "|     0|              77.0|           0|            0|           1|        2|             1|            105.22|              31.0|             1|     1|\n",
      "|     0|              58.0|           0|            0|           1|        2|             0|             59.86|              28.0|             3|     1|\n",
      "|     0|              53.0|           1|            0|           1|        2|             1|             62.55|              30.3|             0|     1|\n",
      "|     1|              80.0|           0|            0|           1|        2|             0|            259.63|              31.7|             2|     1|\n",
      "|     1|              56.0|           1|            0|           1|        2|             0|            249.31|              35.8|             1|     1|\n",
      "|     0|              72.0|           0|            0|           1|        3|             1|            131.41|              28.4|             1|     1|\n",
      "|     0|              80.0|           0|            0|           1|        2|             1|             73.54|              24.0|             0|     1|\n",
      "|     1|              82.0|           0|            0|           1|        3|             1|            200.59|              29.0|             3|     1|\n",
      "|     0|              73.0|           1|            0|           1|        2|             0|            190.14|              36.5|             1|     1|\n",
      "|     0|              78.0|           1|            0|           0|        2|             1|            130.54|              20.1|             1|     1|\n",
      "|     1|              69.0|           1|            0|           0|        2|             0|            182.99|              36.5|             1|     1|\n",
      "|     0|              68.0|           1|            0|           1|        4|             0|            206.09|              26.7|             1|     1|\n",
      "|     0|              71.0|           0|            0|           1|        3|             1|            263.32|              38.7|             1|     1|\n",
      "|     1|              76.0|           0|            0|           1|        2|             1|             140.1|              29.9|             3|     1|\n",
      "|     0|              76.0|           0|            0|           1|        2|             1|            207.28|              34.9|             0|     1|\n",
      "|     1|              76.0|           1|            0|           1|        4|             0|            194.37|              27.0|             3|     1|\n",
      "|     0|              75.0|           0|            0|           1|        2|             0|             199.2|              26.6|             0|     1|\n",
      "|     1|              82.0|           0|            1|           1|        3|             0|            103.68|              25.0|             1|     1|\n",
      "|     0|              59.0|           0|            0|           1|        2|             0|            116.44|              23.8|             2|     1|\n",
      "|     0|              74.0|           1|            0|           1|        2|             1|             70.28|              21.8|             1|     1|\n",
      "|     0|              69.0|           1|            1|           0|        4|             1|             72.17|              36.8|             1|     1|\n",
      "|     0|              72.0|           1|            0|           1|        2|             1|            221.79|              30.0|             1|     1|\n",
      "|     1|              66.0|           0|            0|           1|        2|             1|            151.16|              27.5|             3|     1|\n",
      "|     0|              78.0|           0|            0|           1|        2|             1|             67.29|              24.6|             1|     1|\n",
      "|     0|              57.0|           1|            0|           1|        3|             0|             67.41|              32.9|             1|     1|\n",
      "|     0|              70.0|           0|            1|           1|        2|             0|            239.07|              26.1|             1|     1|\n",
      "|     1|              68.0|           0|            1|           1|        2|             1|            223.83|              31.9|             3|     1|\n",
      "|     0|              80.0|           0|            0|           1|        4|             1|             76.57|              34.1|             1|     1|\n",
      "|     1|              68.0|           0|            0|           1|        4|             1|             77.82|              27.5|             2|     1|\n",
      "|     0|              55.0|           0|            0|           1|        4|             0|             92.98|              25.6|             1|     1|\n",
      "|     0|              77.0|           0|            1|           1|        2|             0|            231.56|              36.9|             1|     1|\n",
      "|     0|              50.0|           0|            0|           1|        2|             0|            102.16|              31.4|             2|     1|\n",
      "|     0|              57.0|           0|            0|           1|        2|             1|            221.89|              37.3|             2|     1|\n",
      "|     0|              71.0|           0|            0|           1|        4|             1|            195.71|              34.1|             3|     1|\n",
      "|     0|              81.0|           1|            0|           1|        4|             0|             74.02|              25.0|             1|     1|\n",
      "|     0|              78.0|           1|            0|           0|        2|             1|            203.87|              45.7|             1|     1|\n",
      "|     0|              70.0|           1|            0|           1|        4|             1|             89.13|              34.2|             3|     1|\n",
      "|     1|              78.0|           0|            0|           1|        4|             1|            133.19|              23.6|             3|     1|\n",
      "|     0|              56.0|           0|            0|           1|        3|             0|            162.23|              27.3|             0|     1|\n",
      "|     0|              79.0|           1|            0|           0|        3|             1|             98.02|              22.3|             3|     1|\n",
      "|     1|              81.0|           0|            0|           1|        4|             0|             91.54|              31.4|             1|     1|\n",
      "|     0|              60.0|           0|            0|           1|        2|             1|             97.43|              26.4|             2|     1|\n",
      "|     0|              80.0|           1|            0|           1|        4|             0|             91.02|              32.9|             3|     1|\n",
      "|     1|              72.0|           1|            0|           1|        4|             0|            185.49|              37.1|             1|     1|\n",
      "|     0|              80.0|           0|            0|           1|        2|             1|             64.44|              45.0|             1|     1|\n",
      "|     1|              78.0|           1|            0|           1|        4|             0|             56.11|              25.5|             3|     1|\n",
      "|     1|              81.0|           0|            0|           1|        2|             1|            213.22|              26.1|             0|     1|\n",
      "|     0|              46.0|           0|            0|           1|        2|             1|             78.18|              30.8|             1|     1|\n",
      "|     1|              59.0|           0|            0|           1|        2|             1|            111.04|              32.0|             3|     1|\n",
      "|     0|              32.0|           0|            0|           1|        2|             0|             76.13|              29.9|             2|     1|\n",
      "|     1|              61.0|           1|            1|           1|        2|             1|            112.24|              37.4|             2|     1|\n",
      "|     1|              63.0|           0|            0|           1|        2|             0|             137.3|              31.7|             3|     1|\n",
      "|     1|              63.0|           0|            1|           1|        4|             1|            116.69|              34.5|             3|     1|\n",
      "|     0|              82.0|           1|            1|           1|        3|             1|            215.94|              27.9|             3|     1|\n",
      "|     1|              82.0|           0|            0|           1|        2|             0|             86.62|              29.5|             3|     1|\n",
      "|     0|              65.0|           0|            0|           1|        2|             1|            205.77|              46.0|             3|     1|\n",
      "|     1|              51.0|           1|            0|           1|        2|             1|            112.16|              42.5|             3|     1|\n",
      "|     1|              59.0|           0|            0|           1|        4|             0|            118.03|              35.5|             2|     1|\n",
      "|     1|              68.0|           1|            1|           1|        2|             0|            271.74|              31.1|             2|     1|\n",
      "|     0|              72.0|           0|            0|           1|        2|             0|             97.92|              26.9|             2|     1|\n",
      "|     1|              59.0|           0|            0|           1|        2|             1|            200.62|              35.8|             3|     1|\n",
      "|     1|              70.0|           1|            0|           1|        2|             0|            242.52|              45.5|             3|     1|\n",
      "|     1|              69.0|           0|            0|           1|        2|             0|             93.81|              28.5|             0|     1|\n",
      "|     0|              74.0|           0|            0|           1|        4|             1|             74.96|              26.6|             1|     1|\n",
      "|     1|              80.0|           1|            1|           1|        2|             1|            175.29|              31.5|             3|     1|\n",
      "|     0|              77.0|           0|            0|           1|        4|             0|              90.0|              32.0|             1|     1|\n",
      "|     0|              78.0|           0|            0|           1|        4|             0|            109.47|              30.8|             1|     1|\n",
      "|     1|              54.0|           0|            0|           1|        3|             0|             87.85|              31.1|             2|     1|\n",
      "|     0|              78.0|           0|            0|           1|        2|             1|            106.74|              33.0|             3|     1|\n",
      "|     0|              81.0|           0|            0|           1|        2|             0|             80.13|              23.4|             1|     1|\n",
      "|     1|              78.0|           0|            0|           0|        4|             1|             90.19|              26.9|             1|     1|\n",
      "|     1|              78.0|           1|            0|           1|        4|             0|             134.8|              33.6|             0|     1|\n",
      "|     0|              63.0|           0|            0|           1|        3|             0|            106.58|              23.9|             0|     1|\n",
      "|     0|              39.0|           0|            0|           1|        2|             1|             83.24|              26.3|             1|     1|\n",
      "|     0|              51.0|           0|            0|           1|        3|             0|            103.43|              27.3|             3|     1|\n",
      "|     1|              63.0|           0|            0|           1|        2|             1|            208.65|              30.7|             1|     1|\n",
      "|     0|              48.0|           0|            0|           1|        2|             1|             74.11|              20.5|             1|     1|\n",
      "|     0|              81.0|           0|            0|           1|        4|             1|             95.84|              21.5|             1|     1|\n",
      "|     0|              79.0|           0|            1|           0|        2|             1|            205.33|              31.0|             2|     1|\n",
      "|     1|              78.0|           0|            0|           1|        4|             1|             116.1|              27.1|             1|     1|\n",
      "|     0|              55.0|           1|            1|           1|        2|             1|             210.4|              40.0|             2|     1|\n",
      "|     1|              73.0|           0|            1|           1|        3|             0|            219.73|              28.6|             1|     1|\n",
      "|     1|              81.0|           1|            1|           1|        2|             1|            250.89|              28.1|             2|     1|\n",
      "|     1|              79.0|           0|            0|           1|        2|             0|             72.73|              28.4|             1|     1|\n",
      "|     0|              63.0|           0|            0|           1|        3|             0|            205.35|              42.2|             3|     1|\n",
      "|     0|              81.0|           0|            0|           0|        3|             1|              70.3|              25.8|             2|     1|\n",
      "|     1|              49.0|           0|            0|           0|        2|             0|            104.86|              31.9|             2|     1|\n",
      "|     0|              57.0|           0|            1|           1|        2|             1|            216.58|              31.0|             0|     1|\n",
      "|     0|              81.0|           0|            0|           1|        2|             0|             184.4|              27.5|             1|     1|\n",
      "|     0|              39.0|           0|            0|           1|        4|             1|             97.76|              29.6|             2|     1|\n",
      "|     0|              80.0|           1|            0|           0|        2|             1|             66.03|              35.4|             1|     1|\n",
      "|     0|              81.0|           0|            0|           1|        4|             0|             81.95|              16.9|             1|     1|\n",
      "|     0|              79.0|           0|            0|           1|        2|             1|             97.73|              21.5|             2|     1|\n",
      "|     0|              73.0|           0|            0|           1|        4|             1|             70.94|              34.4|             1|     1|\n",
      "|     0|              77.0|           1|            0|           1|        4|             1|            199.84|              28.0|             3|     1|\n",
      "|     1|              78.0|           0|            0|           1|        4|             1|            218.46|              26.8|             0|     1|\n",
      "|     0|              68.0|           0|            0|           1|        2|             0|            211.06|              39.3|             0|     1|\n",
      "|     1|              57.0|           0|            0|           1|        2|             1|              86.3|              31.7|             0|     1|\n",
      "|     1|              77.0|           0|            0|           1|        4|             0|            162.14|              32.6|             3|     1|\n",
      "|     0|              51.0|           1|            0|           1|        2|             1|              88.2|              28.4|             1|     1|\n",
      "|     1|              60.0|           0|            1|           1|        2|             1|             91.92|              35.9|             2|     1|\n",
      "|     1|              66.0|           0|            0|           1|        2|             0|             76.46|              21.2|             3|     1|\n",
      "|     1|              57.0|           0|            0|           1|        2|             0|            197.28|              34.5|             3|     1|\n",
      "|     1|              68.0|           0|            0|           1|        2|             0|            233.94|              42.4|             1|     1|\n",
      "|     0|              68.0|           1|            1|           1|        2|             1|            247.51|              40.5|             3|     1|\n",
      "|     1|              57.0|           0|            0|           1|        2|             0|             84.96|              36.7|             0|     1|\n",
      "|     0|              14.0|           0|            0|           0|        1|             0|             57.93|              30.9|             0|     1|\n",
      "|     0|              75.0|           0|            0|           1|        4|             0|              78.8|              29.3|             3|     1|\n",
      "|     0|              78.0|           0|            0|           1|        2|             0|             78.81|              19.6|             0|     1|\n",
      "|     0|61.043558662946886|           0|            0|           1|        2|             0| 111.6960940963939|  27.2259502729903|             1|     1|\n",
      "|     0|  78.5426757041367|           0|            0|           1|        2|             0| 79.37800057032975|19.111591866276974|             0|     1|\n",
      "|     0| 61.79494782662869|           0|            0|           1|        2|             0| 206.7016668544648|42.601684057790436|             2|     1|\n",
      "|     0| 80.33419271417311|           0|            0|           0|        2|             1|  69.1215211040864|24.734708342676974|             2|     1|\n",
      "|     0|              79.0|           0|            0|           0|        2|             0| 91.93849452805554|23.850131449509007|             1|     1|\n",
      "|     0| 58.72017606873061|           0|            0|           1|        3|             0|233.56300715279218| 46.16992847207819|             1|     1|\n",
      "|     0| 50.42164023688346|           0|            0|           1|        2|             0|  102.695483100842|29.671275028777814|             2|     1|\n",
      "|     0|              82.0|           0|            0|           1|        3|             1| 199.9756852081069| 27.86176005861769|             2|     1|\n",
      "|     0|              82.0|           0|            1|           1|        2|             0|209.79617508352314|31.599161598925868|             0|     1|\n",
      "|     1|  57.4656927341588|           0|            0|           0|        2|             0| 93.20105915160231| 31.61262723226513|             0|     1|\n",
      "|     0| 69.88076534931068|           1|            0|           1|        2|             0|242.81749045346984|  45.2019133732767|             3|     1|\n",
      "|     0| 47.76820221215898|           0|            0|           1|        2|             0|61.904676713681624| 29.74602527651987|             1|     1|\n",
      "|     0|              81.0|           0|            0|           1|        4|             0| 81.49504102565427|17.249968441804405|             0|     1|\n",
      "|     1| 56.92090715990795|           0|            0|           1|        2|             0| 86.90362608018982|30.457400424820253|             2|     1|\n",
      "|     0|48.611292679562496|           0|            0|           1|        2|             0| 64.15354234754837|34.862080177838266|             1|     1|\n",
      "|     0| 79.38904206101267|           0|            0|           1|        2|             0|187.86525928230947|29.966574763392394|             2|     1|\n",
      "|     0| 70.63728173062105|           1|            0|           1|        2|             0| 66.17483515779452|26.391184519186314|             1|     1|\n",
      "|     0| 41.96526308798619|           0|            0|           1|        2|             0| 83.38471152805394|25.415631610406212|             0|     1|\n",
      "|     0| 77.18869611772287|           0|            0|           1|        3|             0|134.34161330651344| 32.89686996869315|             0|     1|\n",
      "|     0|61.886401133410644|           0|            0|           1|        2|             0|222.39785076575222| 50.45334998743853|             1|     1|\n",
      "|     0| 51.41599613445754|           0|            0|           1|        2|             1| 61.90055841512759|30.141599613445752|             0|     1|\n",
      "|     0| 78.33495100546335|           0|            0|           0|        2|             1| 98.09049519342088|22.738932336394186|             2|     1|\n",
      "|     1| 77.52378970987706|           0|            0|           1|        3|             1| 218.9092250403493| 26.64126323662569|             0|     1|\n",
      "|     1| 72.34055038119303|           0|            0|           1|        3|             0| 219.3901298118456|28.173894092463183|             1|     1|\n",
      "|     0|              81.0|           0|            0|           1|        2|             0| 80.34912527598459|22.617409728626452|             1|     1|\n",
      "|     0|              78.0|           0|            0|           0|        2|             1| 130.7863388049002|20.425353138547425|             1|     1|\n",
      "|     0|              81.0|           0|            0|           1|        2|             0| 80.14541034799416| 23.34496304287801|             1|     1|\n",
      "|     0| 72.87483851007666|           0|            0|           1|        3|             1| 261.1118568659097| 36.99181380193016|             1|     1|\n",
      "|     0| 77.64456066263594|           0|            0|           1|        3|             0|107.95938281620273|30.871087867472813|             1|     1|\n",
      "|     0| 54.33078097007513|           0|            0|           1|        2|             0| 95.65018392940021|27.942266604737036|             1|     1|\n",
      "|     0|              81.0|           0|            0|           1|        2|             0|185.33431740285224| 28.27429619020903|             2|     1|\n",
      "|     0| 77.58161046662167|           0|            0|           1|        2|             1|106.10404790926493| 32.16322093324333|             2|     1|\n",
      "|     0|47.568755002657625|           0|            0|           1|        2|             0| 62.06573033535396|29.721094375332203|             1|     1|\n",
      "|     0| 47.96890315971726|           0|            0|           1|        2|             0| 69.50777691276882|29.934402568749107|             2|     1|\n",
      "|     0| 71.30237371456033|           0|            0|           0|        4|             1|  71.4620200827727|35.418575771263804|             1|     1|\n",
      "|     0| 78.83854216593576|           0|            0|           0|        2|             1|111.19874892157875|24.083854216593576|             2|     1|\n",
      "|     0| 52.30217886262908|           0|            0|           1|        2|             1|177.80605333500702|37.230439025110634|             2|     1|\n",
      "|     0|  60.4277742096788|           0|            0|           1|        2|             1|188.73435823879143| 38.79493184899143|             2|     1|\n",
      "|     0| 66.71086081619417|           0|            0|           1|        2|             0|208.78681790588905| 42.17907751049968|             1|     1|\n",
      "|     0| 73.10107192912352|           0|            0|           1|        2|             1| 260.7083675920995|36.472863755129076|             1|     1|\n",
      "|     0|              78.0|           0|            0|           1|        4|             0|111.17874066936733|29.846404151333463|             1|     1|\n",
      "|     0| 78.89920362071572|           0|            0|           1|        3|             1|228.51327470737587|26.579840724143146|             1|     1|\n",
      "|     0|              81.0|           0|            0|           1|        4|             0| 80.79679646948472|17.787079638857904|             0|     1|\n",
      "|     0|  65.0219138368207|           0|            0|           1|        3|             0| 61.48284230895412| 25.89342584895379|             2|     1|\n",
      "|     0|63.872214157889196|           0|            0|           1|        2|             0|205.53316497315674| 43.85720689998947|             3|     1|\n",
      "|     0| 69.52232486502172|           0|            0|           0|        2|             1|  96.6046574276921|23.949114703047787|             1|     1|\n",
      "|     0|43.169718716058284|           0|            0|           1|        2|             0| 62.29446637202544| 32.38945943043813|             1|     1|\n",
      "|     1|              57.0|           0|            0|           1|        2|             0| 85.72030386516913|33.863045279219634|             0|     1|\n",
      "|     0| 74.36994887565109|           1|            0|           1|        2|             0| 244.3807626148364| 35.00591909475093|             1|     1|\n",
      "|     1| 77.47005037237965|           0|            0|           1|        3|             0|136.20436651319395| 32.61959318890235|             0|     1|\n",
      "|     1|  79.1696762338913|           0|            0|           0|        4|             0| 90.71635430525109| 28.65451435083694|             1|     1|\n",
      "|     0|63.858132103729766|           0|            1|           1|        2|             0|239.84796993352757|28.812658320852684|             1|     1|\n",
      "|     0|              78.0|           0|            0|           1|        3|             0| 57.59897616496291|25.380136086899228|             2|     1|\n",
      "|     1|57.738666982114616|           0|            0|           0|        2|             0| 90.96837532696438|31.921600094634385|             0|     1|\n",
      "|     0| 79.32360210833166|           0|            0|           1|        3|             1|101.79849589548164| 32.56843142312387|             1|     1|\n",
      "|     0|52.797897861019166|           0|            0|           1|        2|             0| 87.99024524954775| 30.01810807491725|             1|     1|\n",
      "|     0|  68.9725842895694|           0|            0|           1|        2|             1|222.73584267423445|39.486157458641244|             2|     1|\n",
      "|     0| 73.42363094808094|           0|            0|           1|        3|             0| 74.86489910643336| 25.59135415914165|             1|     1|\n",
      "|     0| 53.02585743115884|           0|            0|           0|        3|             1|  64.1948877774904| 41.47414256884116|             1|     1|\n",
      "|     1| 68.99247844380163|           0|            0|           1|        2|             0|  238.197732523909| 43.93834158789252|             1|     1|\n",
      "|     1| 64.42812994281121|           0|            0|           1|        2|             0| 227.2089890741006|28.685316948530094|             1|     1|\n",
      "|     1| 72.73460830071053|           1|            0|           1|        4|             0| 192.4687788567501|  33.9411843069447|             1|     1|\n",
      "|     0| 68.02394626527048|           0|            0|           0|        3|             1| 79.86231772111687|29.659291349040178|             1|     1|\n",
      "|     1|60.660688754776835|           0|            0|           1|        2|             1| 203.9538326752145| 33.68262183765953|             2|     1|\n",
      "|     1| 79.29769085007278|           0|            0|           1|        2|             0|260.33874698380157| 31.66488454250364|             2|     1|\n",
      "|     0|  77.1744092671115|           0|            0|           1|        4|             1|122.72949358509466| 30.65004015142055|             1|     1|\n",
      "|     1|62.056701018498806|           0|            1|           1|        3|             1|114.59115976615985|35.867783523176726|             2|     1|\n",
      "|     0|60.731375934537105|           1|            0|           1|        3|             0|212.39553137678905|20.794242946811398|             1|     1|\n",
      "|     0|52.620226614170534|           0|            0|           0|        2|             0| 71.24851866726858|32.995090231718265|             2|     1|\n",
      "|     0|              74.0|           0|            0|           1|        3|             1| 74.06106336119244| 28.71250110119774|             1|     1|\n",
      "|     0| 56.33257943583098|           0|            0|           1|        2|             0|174.44411398603924|31.833597197459156|             2|     1|\n",
      "|     0| 53.12826212884245|           0|            0|           1|        2|             0|176.66965590137363| 35.85308170400054|             2|     1|\n",
      "|     1| 57.79314931693802|           0|            0|           1|        2|             0|241.49186897815022|31.855071502736354|             1|     1|\n",
      "|     0|55.981471511555334|           0|            0|           1|        3|             0| 93.85350964528425|25.757035441848853|             1|     1|\n",
      "|     0|              59.0|           0|            0|           1|        2|             0|116.31815163679113|23.985028995983846|             2|     1|\n",
      "|     0| 74.55334046120359|           0|            0|           1|        2|             0|232.16610716350962| 34.28182923480793|             2|     1|\n",
      "|     0| 67.46270249432744|           0|            0|           1|        3|             0| 75.39274226454891|26.260684837493212|             1|     1|\n",
      "|     0| 77.68790146554211|           1|            0|           1|        3|             0| 174.6667077226908|24.448300332606447|             1|     1|\n",
      "|     0| 55.20916432976048|           0|            0|           0|        2|             1| 69.93022471492215| 32.12749298928145|             1|     1|\n",
      "|     0|  71.3796778200806|           0|            0|           1|        4|             1|  195.573315984771|33.853209416947614|             2|     1|\n",
      "|     0| 70.57804018013088|           0|            0|           1|        2|             0|232.93886106338252|39.048547765829845|             1|     1|\n",
      "|     0| 81.74985993128827|           1|            0|           0|        2|             0| 83.12949575263777|27.300448219877538|             2|     1|\n",
      "|     0| 71.95654386421158|           0|            0|           1|        3|             0|194.19913642866823| 22.38260829337797|             1|     1|\n",
      "|     1| 80.42787703627779|           0|            0|           1|        2|             0|103.10029033092934| 33.01345244353335|             1|     1|\n",
      "|     0| 63.91528909662572|           0|            0|           1|        2|             1|204.83895647460375| 44.15599146426373|             3|     1|\n",
      "|     0|  80.7312023849698|           0|            0|           0|        2|             1| 71.17090427269784|25.316164292945643|             1|     1|\n",
      "|     0| 77.19864457689741|           0|            0|           1|        2|             0|106.06423945181398| 30.96027108462052|             1|     1|\n",
      "|     1| 57.49371405519147|           0|            0|           1|        2|             1| 80.72452487172481|28.267771163470186|             3|     1|\n",
      "|     1| 60.53207724675518|           0|            0|           1|        2|             1|197.85919680134717| 36.32090626389676|             2|     1|\n",
      "|     1| 81.44486621324681|           0|            0|           1|        2|             0| 211.0312582308257|28.947143764779593|             0|     1|\n",
      "|     0| 75.87991629463832|           1|            0|           1|        4|             0| 90.24130417968664|33.435610881697016|             3|     1|\n",
      "+------+------------------+------------+-------------+------------+---------+--------------+------------------+------------------+--------------+------+\n",
      "only showing top 300 rows\n",
      "\n"
     ]
    }
   ],
   "source": [
    "balancedData.filter(balancedData['stroke'] == 1).show(300)"
   ]
  },
  {
   "cell_type": "code",
   "execution_count": 19,
   "id": "5fd193c8",
   "metadata": {},
   "outputs": [
    {
     "name": "stdout",
     "output_type": "stream",
     "text": [
      "So dong trong train data: 6660\n",
      "So dong trong test data: 2738\n"
     ]
    }
   ],
   "source": [
    "trainData, testData = balancedData.randomSplit([0.7, 0.3])\n",
    "print(\"So dong trong train data:\", trainData.count())\n",
    "print(\"So dong trong test data:\", testData.count())"
   ]
  },
  {
   "cell_type": "code",
   "execution_count": 20,
   "id": "2597354c",
   "metadata": {},
   "outputs": [
    {
     "name": "stdout",
     "output_type": "stream",
     "text": [
      "+------+----+------------+-------------+------------+---------+--------------+-----------------+----+--------------+------+\n",
      "|gender| age|hypertension|heart_disease|ever_married|work_type|Residence_type|avg_glucose_level| bmi|smoking_status|stroke|\n",
      "+------+----+------------+-------------+------------+---------+--------------+-----------------+----+--------------+------+\n",
      "|     0|0.08|           0|            0|           0|        1|             1|           139.67|14.1|             0|     0|\n",
      "|     0|0.64|           0|            0|           0|        1|             1|            83.82|24.9|             0|     0|\n",
      "|     0|0.72|           0|            0|           0|        1|             1|            66.36|23.0|             0|     0|\n",
      "|     0|1.08|           0|            0|           0|        1|             0|            60.53|17.5|             0|     0|\n",
      "|     0|1.16|           0|            0|           0|        1|             1|            60.98|17.2|             0|     0|\n",
      "+------+----+------------+-------------+------------+---------+--------------+-----------------+----+--------------+------+\n",
      "only showing top 5 rows\n",
      "\n"
     ]
    }
   ],
   "source": [
    "trainData.show(5)"
   ]
  },
  {
   "cell_type": "code",
   "execution_count": 21,
   "id": "67d1780e",
   "metadata": {},
   "outputs": [
    {
     "name": "stdout",
     "output_type": "stream",
     "text": [
      "+------+----+------------+-------------+------------+---------+--------------+-----------------+----+--------------+------+\n",
      "|gender| age|hypertension|heart_disease|ever_married|work_type|Residence_type|avg_glucose_level| bmi|smoking_status|stroke|\n",
      "+------+----+------------+-------------+------------+---------+--------------+-----------------+----+--------------+------+\n",
      "|     0|0.72|           0|            0|           0|        1|             0|            62.13|16.8|             0|     0|\n",
      "|     0| 1.0|           0|            0|           0|        1|             1|           199.83|24.5|             0|     0|\n",
      "|     0|1.08|           0|            0|           0|        1|             1|           159.39|12.8|             0|     0|\n",
      "|     0|1.16|           0|            0|           0|        1|             1|            60.98|17.2|             0|     0|\n",
      "|     0|1.32|           0|            0|           0|        1|             0|            75.22|18.6|             0|     0|\n",
      "+------+----+------------+-------------+------------+---------+--------------+-----------------+----+--------------+------+\n",
      "only showing top 5 rows\n",
      "\n"
     ]
    }
   ],
   "source": [
    "testData.show(5)"
   ]
  },
  {
   "cell_type": "code",
   "execution_count": 21,
   "id": "a24c8b0e",
   "metadata": {},
   "outputs": [],
   "source": [
    "def mean(dataset, column):\n",
    "    return (dataset.groupBy().mean(column).collect())[0][0]"
   ]
  },
  {
   "cell_type": "code",
   "execution_count": 22,
   "id": "58ebb3ae",
   "metadata": {},
   "outputs": [],
   "source": [
    "def stdev(dataset, column):\n",
    "    avg = mean(dataset, column)\n",
    "    lendf = len(dataset.select(column).collect())\n",
    "    value = dataset.select(column).rdd.flatMap(lambda x:x).collect()\n",
    "    variance = sum([(x-avg)**2 for x in value]) / float(lendf - 1)\n",
    "    return math.sqrt(variance)"
   ]
  },
  {
   "cell_type": "code",
   "execution_count": 23,
   "id": "fef809e5",
   "metadata": {},
   "outputs": [],
   "source": [
    "def summarize_dataset(dataset):\n",
    "    summaries = [(mean(dataset,column), stdev(dataset,column), dataset.select(column).count())\\\n",
    "                 for column in dataset.columns]\n",
    "    del(summaries[-1])\n",
    "    return summaries"
   ]
  },
  {
   "cell_type": "code",
   "execution_count": 24,
   "id": "a39e24dc",
   "metadata": {},
   "outputs": [],
   "source": [
    "def summarize_by_class(dataset):\n",
    "    summaries = dict()\n",
    "    lenstroke = len(dataset.select('stroke').rdd.flatMap(lambda x:x).distinct().collect())\n",
    "    for i in range(0,lenstroke):\n",
    "        item = dataset.select('stroke').rdd.flatMap(lambda x:x).distinct().collect()[i]\n",
    "        res = dataset.filter(dataset.stroke == item)\n",
    "        summaries[item] = summarize_dataset(res)\n",
    "    return summaries"
   ]
  },
  {
   "cell_type": "code",
   "execution_count": 25,
   "id": "fac348f6",
   "metadata": {},
   "outputs": [],
   "source": [
    "def calculate_probability(x, mean, stdev):\n",
    "    exponent = math.exp(-((x-mean)**2 / (2 * stdev**2)))\n",
    "    return (1 / (math.sqrt(2 * math.pi) * stdev)) * exponent"
   ]
  },
  {
   "cell_type": "code",
   "execution_count": 26,
   "id": "f377b245",
   "metadata": {},
   "outputs": [],
   "source": [
    "def calculate_class_probability(summaries, row):\n",
    "    totalRows = sum([summaries[label][0][2] for label in summaries])\n",
    "    probabilities = dict()\n",
    "    for class_value, class_summaries in summaries.items():\n",
    "        probabilities[class_value] = summaries[class_value][0][2] / float(totalRows)\n",
    "        for i in range(0, len(class_summaries)):\n",
    "            mean, stdev, _ = class_summaries[i]\n",
    "            probabilities[class_value] *= calculate_probability(row[i], mean, stdev)  \n",
    "    return probabilities"
   ]
  },
  {
   "cell_type": "code",
   "execution_count": 27,
   "id": "eaca33e6",
   "metadata": {},
   "outputs": [],
   "source": [
    "def predict(summaries, row):\n",
    "    probabilites = calculate_class_probability(summaries, row)\n",
    "    best_label, best_prob = None, -1\n",
    "    for class_value, probability in probabilites.items():\n",
    "        if (best_label is None or probability > best_prob):\n",
    "            best_prob = probability\n",
    "            best_label = class_value\n",
    "    return best_label"
   ]
  },
  {
   "cell_type": "code",
   "execution_count": 28,
   "id": "80f2e62c",
   "metadata": {},
   "outputs": [],
   "source": [
    "def naive_bayes(train, test):\n",
    "    summerize = summarize_by_class(train)\n",
    "    predictions = list()\n",
    "    for row in test.collect():\n",
    "        output = predict(summerize, row)\n",
    "        predictions.append(output)\n",
    "    return predictions"
   ]
  },
  {
   "cell_type": "code",
   "execution_count": 29,
   "id": "6109e6d8",
   "metadata": {},
   "outputs": [],
   "source": [
    "def accuracy_metric(actual, predict):\n",
    "    correct = 0\n",
    "    for i in range(len(actual)):\n",
    "        if (actual[i] == predict[i]):\n",
    "            correct += 1\n",
    "    return correct / float(len(actual)) * 100"
   ]
  },
  {
   "cell_type": "code",
   "execution_count": 30,
   "id": "27856791",
   "metadata": {},
   "outputs": [],
   "source": [
    "from sklearn.metrics import confusion_matrix\n",
    "def evaluate_algorithm(trainData, testData, algorithm):\n",
    "    predicted = algorithm(trainData,testData)\n",
    "    actual = testData.select('stroke').rdd.flatMap(lambda x: x).collect()\n",
    "    accuracy = accuracy_metric(actual, predicted)\n",
    "    tree_cm = confusion_matrix(predicted, actual)\n",
    "    return accuracy, tree_cm"
   ]
  },
  {
   "cell_type": "code",
   "execution_count": 35,
   "id": "c2ff8dde",
   "metadata": {},
   "outputs": [],
   "source": [
    "# import time\n",
    "# accuracyList = []\n",
    "# timeList = []\n",
    "# for i in range(10):\n",
    "#     trainData, testData = balancedData.randomSplit([0.7, 0.3])\n",
    "#     start_time = time.time()\n",
    "#     accuracy, tree_cm = evaluate_algorithm(trainData, testData, naive_bayes)\n",
    "#     end_time = time.time()\n",
    "#     accuracyList.append(accuracy)\n",
    "#     timeList.append(end_time - start_time)\n",
    "# trainData, testData = balancedData.randomSplit([0.7, 0.3])\n",
    "# accuracy, tree_cm = evaluate_algorithm(trainData, testData, naive_bayes)\n",
    "# print(accuracy)\n",
    "trainData, testData = balancedData.randomSplit([0.7, 0.3])\n",
    "# summarize_by_class(trainData)"
   ]
  },
  {
   "cell_type": "code",
   "execution_count": 48,
   "id": "690b8e83",
   "metadata": {},
   "outputs": [
    {
     "ename": "KeyboardInterrupt",
     "evalue": "",
     "output_type": "error",
     "traceback": [
      "\u001b[1;31m---------------------------------------------------------------------------\u001b[0m",
      "\u001b[1;31mKeyboardInterrupt\u001b[0m                         Traceback (most recent call last)",
      "Input \u001b[1;32mIn [48]\u001b[0m, in \u001b[0;36m<module>\u001b[1;34m\u001b[0m\n\u001b[1;32m----> 1\u001b[0m \u001b[43msummarize_by_class\u001b[49m\u001b[43m(\u001b[49m\u001b[43mtrainData\u001b[49m\u001b[43m)\u001b[49m\n",
      "Input \u001b[1;32mIn [24]\u001b[0m, in \u001b[0;36msummarize_by_class\u001b[1;34m(dataset)\u001b[0m\n\u001b[0;32m      5\u001b[0m     item \u001b[38;5;241m=\u001b[39m dataset\u001b[38;5;241m.\u001b[39mselect(\u001b[38;5;124m'\u001b[39m\u001b[38;5;124mstroke\u001b[39m\u001b[38;5;124m'\u001b[39m)\u001b[38;5;241m.\u001b[39mrdd\u001b[38;5;241m.\u001b[39mflatMap(\u001b[38;5;28;01mlambda\u001b[39;00m x:x)\u001b[38;5;241m.\u001b[39mdistinct()\u001b[38;5;241m.\u001b[39mcollect()[i]\n\u001b[0;32m      6\u001b[0m     res \u001b[38;5;241m=\u001b[39m dataset\u001b[38;5;241m.\u001b[39mfilter(dataset\u001b[38;5;241m.\u001b[39mstroke \u001b[38;5;241m==\u001b[39m item)\n\u001b[1;32m----> 7\u001b[0m     summaries[item] \u001b[38;5;241m=\u001b[39m \u001b[43msummarize_dataset\u001b[49m\u001b[43m(\u001b[49m\u001b[43mres\u001b[49m\u001b[43m)\u001b[49m\n\u001b[0;32m      8\u001b[0m \u001b[38;5;28;01mreturn\u001b[39;00m summaries\n",
      "Input \u001b[1;32mIn [23]\u001b[0m, in \u001b[0;36msummarize_dataset\u001b[1;34m(dataset)\u001b[0m\n\u001b[0;32m      1\u001b[0m \u001b[38;5;28;01mdef\u001b[39;00m \u001b[38;5;21msummarize_dataset\u001b[39m(dataset):\n\u001b[1;32m----> 2\u001b[0m     summaries \u001b[38;5;241m=\u001b[39m [(mean(dataset,column), stdev(dataset,column), dataset\u001b[38;5;241m.\u001b[39mselect(column)\u001b[38;5;241m.\u001b[39mcount())\\\n\u001b[0;32m      3\u001b[0m                  \u001b[38;5;28;01mfor\u001b[39;00m column \u001b[38;5;129;01min\u001b[39;00m dataset\u001b[38;5;241m.\u001b[39mcolumns]\n\u001b[0;32m      4\u001b[0m     \u001b[38;5;28;01mdel\u001b[39;00m(summaries[\u001b[38;5;241m-\u001b[39m\u001b[38;5;241m1\u001b[39m])\n\u001b[0;32m      5\u001b[0m     \u001b[38;5;28;01mreturn\u001b[39;00m summaries\n",
      "Input \u001b[1;32mIn [23]\u001b[0m, in \u001b[0;36m<listcomp>\u001b[1;34m(.0)\u001b[0m\n\u001b[0;32m      1\u001b[0m \u001b[38;5;28;01mdef\u001b[39;00m \u001b[38;5;21msummarize_dataset\u001b[39m(dataset):\n\u001b[1;32m----> 2\u001b[0m     summaries \u001b[38;5;241m=\u001b[39m [(mean(dataset,column), \u001b[43mstdev\u001b[49m\u001b[43m(\u001b[49m\u001b[43mdataset\u001b[49m\u001b[43m,\u001b[49m\u001b[43mcolumn\u001b[49m\u001b[43m)\u001b[49m, dataset\u001b[38;5;241m.\u001b[39mselect(column)\u001b[38;5;241m.\u001b[39mcount())\\\n\u001b[0;32m      3\u001b[0m                  \u001b[38;5;28;01mfor\u001b[39;00m column \u001b[38;5;129;01min\u001b[39;00m dataset\u001b[38;5;241m.\u001b[39mcolumns]\n\u001b[0;32m      4\u001b[0m     \u001b[38;5;28;01mdel\u001b[39;00m(summaries[\u001b[38;5;241m-\u001b[39m\u001b[38;5;241m1\u001b[39m])\n\u001b[0;32m      5\u001b[0m     \u001b[38;5;28;01mreturn\u001b[39;00m summaries\n",
      "Input \u001b[1;32mIn [22]\u001b[0m, in \u001b[0;36mstdev\u001b[1;34m(dataset, column)\u001b[0m\n\u001b[0;32m      2\u001b[0m avg \u001b[38;5;241m=\u001b[39m mean(dataset, column)\n\u001b[0;32m      3\u001b[0m lendf \u001b[38;5;241m=\u001b[39m \u001b[38;5;28mlen\u001b[39m(dataset\u001b[38;5;241m.\u001b[39mselect(column)\u001b[38;5;241m.\u001b[39mcollect())\n\u001b[1;32m----> 4\u001b[0m value \u001b[38;5;241m=\u001b[39m \u001b[43mdataset\u001b[49m\u001b[38;5;241;43m.\u001b[39;49m\u001b[43mselect\u001b[49m\u001b[43m(\u001b[49m\u001b[43mcolumn\u001b[49m\u001b[43m)\u001b[49m\u001b[38;5;241;43m.\u001b[39;49m\u001b[43mrdd\u001b[49m\u001b[38;5;241;43m.\u001b[39;49m\u001b[43mflatMap\u001b[49m\u001b[43m(\u001b[49m\u001b[38;5;28;43;01mlambda\u001b[39;49;00m\u001b[43m \u001b[49m\u001b[43mx\u001b[49m\u001b[43m:\u001b[49m\u001b[43mx\u001b[49m\u001b[43m)\u001b[49m\u001b[38;5;241;43m.\u001b[39;49m\u001b[43mcollect\u001b[49m\u001b[43m(\u001b[49m\u001b[43m)\u001b[49m\n\u001b[0;32m      5\u001b[0m variance \u001b[38;5;241m=\u001b[39m \u001b[38;5;28msum\u001b[39m([(x\u001b[38;5;241m-\u001b[39mavg)\u001b[38;5;241m*\u001b[39m\u001b[38;5;241m*\u001b[39m\u001b[38;5;241m2\u001b[39m \u001b[38;5;28;01mfor\u001b[39;00m x \u001b[38;5;129;01min\u001b[39;00m value]) \u001b[38;5;241m/\u001b[39m \u001b[38;5;28mfloat\u001b[39m(lendf \u001b[38;5;241m-\u001b[39m \u001b[38;5;241m1\u001b[39m)\n\u001b[0;32m      6\u001b[0m \u001b[38;5;28;01mreturn\u001b[39;00m math\u001b[38;5;241m.\u001b[39msqrt(variance)\n",
      "File \u001b[1;32mG:\\spark\\spark-3.0.3-bin-hadoop2.7\\python\\pyspark\\rdd.py:889\u001b[0m, in \u001b[0;36mRDD.collect\u001b[1;34m(self)\u001b[0m\n\u001b[0;32m    882\u001b[0m \u001b[38;5;124;03m\"\"\"\u001b[39;00m\n\u001b[0;32m    883\u001b[0m \u001b[38;5;124;03mReturn a list that contains all of the elements in this RDD.\u001b[39;00m\n\u001b[0;32m    884\u001b[0m \n\u001b[0;32m    885\u001b[0m \u001b[38;5;124;03m.. note:: This method should only be used if the resulting array is expected\u001b[39;00m\n\u001b[0;32m    886\u001b[0m \u001b[38;5;124;03m    to be small, as all the data is loaded into the driver's memory.\u001b[39;00m\n\u001b[0;32m    887\u001b[0m \u001b[38;5;124;03m\"\"\"\u001b[39;00m\n\u001b[0;32m    888\u001b[0m \u001b[38;5;28;01mwith\u001b[39;00m SCCallSiteSync(\u001b[38;5;28mself\u001b[39m\u001b[38;5;241m.\u001b[39mcontext) \u001b[38;5;28;01mas\u001b[39;00m css:\n\u001b[1;32m--> 889\u001b[0m     sock_info \u001b[38;5;241m=\u001b[39m \u001b[38;5;28;43mself\u001b[39;49m\u001b[38;5;241;43m.\u001b[39;49m\u001b[43mctx\u001b[49m\u001b[38;5;241;43m.\u001b[39;49m\u001b[43m_jvm\u001b[49m\u001b[38;5;241;43m.\u001b[39;49m\u001b[43mPythonRDD\u001b[49m\u001b[38;5;241;43m.\u001b[39;49m\u001b[43mcollectAndServe\u001b[49m\u001b[43m(\u001b[49m\u001b[38;5;28;43mself\u001b[39;49m\u001b[38;5;241;43m.\u001b[39;49m\u001b[43m_jrdd\u001b[49m\u001b[38;5;241;43m.\u001b[39;49m\u001b[43mrdd\u001b[49m\u001b[43m(\u001b[49m\u001b[43m)\u001b[49m\u001b[43m)\u001b[49m\n\u001b[0;32m    890\u001b[0m \u001b[38;5;28;01mreturn\u001b[39;00m \u001b[38;5;28mlist\u001b[39m(_load_from_socket(sock_info, \u001b[38;5;28mself\u001b[39m\u001b[38;5;241m.\u001b[39m_jrdd_deserializer))\n",
      "File \u001b[1;32mG:\\spark\\spark-3.0.3-bin-hadoop2.7\\python\\lib\\py4j-0.10.9-src.zip\\py4j\\java_gateway.py:1303\u001b[0m, in \u001b[0;36mJavaMember.__call__\u001b[1;34m(self, *args)\u001b[0m\n\u001b[0;32m   1296\u001b[0m args_command, temp_args \u001b[38;5;241m=\u001b[39m \u001b[38;5;28mself\u001b[39m\u001b[38;5;241m.\u001b[39m_build_args(\u001b[38;5;241m*\u001b[39margs)\n\u001b[0;32m   1298\u001b[0m command \u001b[38;5;241m=\u001b[39m proto\u001b[38;5;241m.\u001b[39mCALL_COMMAND_NAME \u001b[38;5;241m+\u001b[39m\\\n\u001b[0;32m   1299\u001b[0m     \u001b[38;5;28mself\u001b[39m\u001b[38;5;241m.\u001b[39mcommand_header \u001b[38;5;241m+\u001b[39m\\\n\u001b[0;32m   1300\u001b[0m     args_command \u001b[38;5;241m+\u001b[39m\\\n\u001b[0;32m   1301\u001b[0m     proto\u001b[38;5;241m.\u001b[39mEND_COMMAND_PART\n\u001b[1;32m-> 1303\u001b[0m answer \u001b[38;5;241m=\u001b[39m \u001b[38;5;28;43mself\u001b[39;49m\u001b[38;5;241;43m.\u001b[39;49m\u001b[43mgateway_client\u001b[49m\u001b[38;5;241;43m.\u001b[39;49m\u001b[43msend_command\u001b[49m\u001b[43m(\u001b[49m\u001b[43mcommand\u001b[49m\u001b[43m)\u001b[49m\n\u001b[0;32m   1304\u001b[0m return_value \u001b[38;5;241m=\u001b[39m get_return_value(\n\u001b[0;32m   1305\u001b[0m     answer, \u001b[38;5;28mself\u001b[39m\u001b[38;5;241m.\u001b[39mgateway_client, \u001b[38;5;28mself\u001b[39m\u001b[38;5;241m.\u001b[39mtarget_id, \u001b[38;5;28mself\u001b[39m\u001b[38;5;241m.\u001b[39mname)\n\u001b[0;32m   1307\u001b[0m \u001b[38;5;28;01mfor\u001b[39;00m temp_arg \u001b[38;5;129;01min\u001b[39;00m temp_args:\n",
      "File \u001b[1;32mG:\\spark\\spark-3.0.3-bin-hadoop2.7\\python\\lib\\py4j-0.10.9-src.zip\\py4j\\java_gateway.py:1033\u001b[0m, in \u001b[0;36mGatewayClient.send_command\u001b[1;34m(self, command, retry, binary)\u001b[0m\n\u001b[0;32m   1031\u001b[0m connection \u001b[38;5;241m=\u001b[39m \u001b[38;5;28mself\u001b[39m\u001b[38;5;241m.\u001b[39m_get_connection()\n\u001b[0;32m   1032\u001b[0m \u001b[38;5;28;01mtry\u001b[39;00m:\n\u001b[1;32m-> 1033\u001b[0m     response \u001b[38;5;241m=\u001b[39m \u001b[43mconnection\u001b[49m\u001b[38;5;241;43m.\u001b[39;49m\u001b[43msend_command\u001b[49m\u001b[43m(\u001b[49m\u001b[43mcommand\u001b[49m\u001b[43m)\u001b[49m\n\u001b[0;32m   1034\u001b[0m     \u001b[38;5;28;01mif\u001b[39;00m binary:\n\u001b[0;32m   1035\u001b[0m         \u001b[38;5;28;01mreturn\u001b[39;00m response, \u001b[38;5;28mself\u001b[39m\u001b[38;5;241m.\u001b[39m_create_connection_guard(connection)\n",
      "File \u001b[1;32mG:\\spark\\spark-3.0.3-bin-hadoop2.7\\python\\lib\\py4j-0.10.9-src.zip\\py4j\\java_gateway.py:1200\u001b[0m, in \u001b[0;36mGatewayConnection.send_command\u001b[1;34m(self, command)\u001b[0m\n\u001b[0;32m   1196\u001b[0m     \u001b[38;5;28;01mraise\u001b[39;00m Py4JNetworkError(\n\u001b[0;32m   1197\u001b[0m         \u001b[38;5;124m\"\u001b[39m\u001b[38;5;124mError while sending\u001b[39m\u001b[38;5;124m\"\u001b[39m, e, proto\u001b[38;5;241m.\u001b[39mERROR_ON_SEND)\n\u001b[0;32m   1199\u001b[0m \u001b[38;5;28;01mtry\u001b[39;00m:\n\u001b[1;32m-> 1200\u001b[0m     answer \u001b[38;5;241m=\u001b[39m smart_decode(\u001b[38;5;28;43mself\u001b[39;49m\u001b[38;5;241;43m.\u001b[39;49m\u001b[43mstream\u001b[49m\u001b[38;5;241;43m.\u001b[39;49m\u001b[43mreadline\u001b[49m\u001b[43m(\u001b[49m\u001b[43m)\u001b[49m[:\u001b[38;5;241m-\u001b[39m\u001b[38;5;241m1\u001b[39m])\n\u001b[0;32m   1201\u001b[0m     logger\u001b[38;5;241m.\u001b[39mdebug(\u001b[38;5;124m\"\u001b[39m\u001b[38;5;124mAnswer received: \u001b[39m\u001b[38;5;132;01m{0}\u001b[39;00m\u001b[38;5;124m\"\u001b[39m\u001b[38;5;241m.\u001b[39mformat(answer))\n\u001b[0;32m   1202\u001b[0m     \u001b[38;5;28;01mif\u001b[39;00m answer\u001b[38;5;241m.\u001b[39mstartswith(proto\u001b[38;5;241m.\u001b[39mRETURN_MESSAGE):\n",
      "File \u001b[1;32m~\\AppData\\Local\\Programs\\Python\\Python38-32\\lib\\socket.py:669\u001b[0m, in \u001b[0;36mSocketIO.readinto\u001b[1;34m(self, b)\u001b[0m\n\u001b[0;32m    667\u001b[0m \u001b[38;5;28;01mwhile\u001b[39;00m \u001b[38;5;28;01mTrue\u001b[39;00m:\n\u001b[0;32m    668\u001b[0m     \u001b[38;5;28;01mtry\u001b[39;00m:\n\u001b[1;32m--> 669\u001b[0m         \u001b[38;5;28;01mreturn\u001b[39;00m \u001b[38;5;28;43mself\u001b[39;49m\u001b[38;5;241;43m.\u001b[39;49m\u001b[43m_sock\u001b[49m\u001b[38;5;241;43m.\u001b[39;49m\u001b[43mrecv_into\u001b[49m\u001b[43m(\u001b[49m\u001b[43mb\u001b[49m\u001b[43m)\u001b[49m\n\u001b[0;32m    670\u001b[0m     \u001b[38;5;28;01mexcept\u001b[39;00m timeout:\n\u001b[0;32m    671\u001b[0m         \u001b[38;5;28mself\u001b[39m\u001b[38;5;241m.\u001b[39m_timeout_occurred \u001b[38;5;241m=\u001b[39m \u001b[38;5;28;01mTrue\u001b[39;00m\n",
      "\u001b[1;31mKeyboardInterrupt\u001b[0m: "
     ]
    }
   ],
   "source": [
    "summarize_by_class(trainData)"
   ]
  },
  {
   "cell_type": "code",
   "execution_count": 37,
   "id": "f3c76b02",
   "metadata": {},
   "outputs": [],
   "source": [
    "from pyspark.ml import Pipeline\n",
    "from pyspark.ml.classification import DecisionTreeClassifier\n",
    "from pyspark.ml.classification import NaiveBayes\n",
    "from pyspark.ml.feature import StringIndexer, VectorIndexer\n",
    "from pyspark.ml.evaluation import MulticlassClassificationEvaluator\n",
    "from pyspark.ml.linalg import Vectors\n",
    "from pyspark.ml.feature import VectorAssembler"
   ]
  },
  {
   "cell_type": "code",
   "execution_count": 38,
   "id": "4d96c619",
   "metadata": {},
   "outputs": [],
   "source": [
    "featureAssembler = VectorAssembler(\n",
    "    inputCols=[\"age\",\"gender\",\"hypertension\",\"heart_disease\",\"work_type\",\"Residence_type\",\"avg_glucose_level\",\"ever_married\",\"smoking_status\",\"bmi\"],\n",
    "    outputCol=\"features\")\n",
    "columns_to_drop = [\"age\",\"gender\",\"hypertension\",\"heart_disease\",\"work_type\",\"Residence_type\",\"avg_glucose_level\",\"ever_married\",\"smoking_status\",\"bmi\"]\n",
    "dt = DecisionTreeClassifier(labelCol=\"stroke\", featuresCol=\"features\")\n",
    "nb = NaiveBayes(smoothing=1.0, modelType=\"multinomial\", labelCol=\"stroke\")"
   ]
  },
  {
   "cell_type": "code",
   "execution_count": 39,
   "id": "614a5712",
   "metadata": {},
   "outputs": [],
   "source": [
    "assembleredTestData = featureAssembler.transform(testData)\n",
    "assembleredTestData = assembleredTestData.drop(*columns_to_drop)\n",
    "assembleredTrainData = featureAssembler.transform(trainData)\n",
    "assembleredTrainData = assembleredTrainData.drop(*columns_to_drop)"
   ]
  },
  {
   "cell_type": "code",
   "execution_count": 56,
   "id": "e3efa536",
   "metadata": {},
   "outputs": [
    {
     "name": "stdout",
     "output_type": "stream",
     "text": [
      "0.5192175792352322\n"
     ]
    }
   ],
   "source": [
    "from pyspark.ml.evaluation import RegressionEvaluator\n",
    "evaluator = RegressionEvaluator(\n",
    "labelCol=\"stroke\", predictionCol=\"prediction\", metricName=\"rmse\")\n",
    "modelNaiveBayes = nb.fit(assembleredTrainData)\n",
    "predictions = modelNaiveBayes.transform(assembleredTestData)\n",
    "accuracy = evaluator.evaluate(predictions)\n",
    "print(accuracy)"
   ]
  },
  {
   "cell_type": "code",
   "execution_count": 59,
   "id": "9fa071f5",
   "metadata": {},
   "outputs": [
    {
     "ename": "Py4JJavaError",
     "evalue": "An error occurred while calling z:org.apache.spark.mllib.tree.model.DecisionTreeModel.load.\n: java.lang.UnsupportedOperationException: empty collection\r\n\tat org.apache.spark.rdd.RDD.$anonfun$first$1(RDD.scala:1439)\r\n\tat org.apache.spark.rdd.RDDOperationScope$.withScope(RDDOperationScope.scala:151)\r\n\tat org.apache.spark.rdd.RDDOperationScope$.withScope(RDDOperationScope.scala:112)\r\n\tat org.apache.spark.rdd.RDD.withScope(RDD.scala:388)\r\n\tat org.apache.spark.rdd.RDD.first(RDD.scala:1437)\r\n\tat org.apache.spark.mllib.util.Loader$.loadMetadata(modelSaveLoad.scala:120)\r\n\tat org.apache.spark.mllib.tree.model.DecisionTreeModel$.load(DecisionTreeModel.scala:316)\r\n\tat org.apache.spark.mllib.tree.model.DecisionTreeModel.load(DecisionTreeModel.scala)\r\n\tat sun.reflect.NativeMethodAccessorImpl.invoke0(Native Method)\r\n\tat sun.reflect.NativeMethodAccessorImpl.invoke(NativeMethodAccessorImpl.java:62)\r\n\tat sun.reflect.DelegatingMethodAccessorImpl.invoke(DelegatingMethodAccessorImpl.java:43)\r\n\tat java.lang.reflect.Method.invoke(Method.java:498)\r\n\tat py4j.reflection.MethodInvoker.invoke(MethodInvoker.java:244)\r\n\tat py4j.reflection.ReflectionEngine.invoke(ReflectionEngine.java:357)\r\n\tat py4j.Gateway.invoke(Gateway.java:282)\r\n\tat py4j.commands.AbstractCommand.invokeMethod(AbstractCommand.java:132)\r\n\tat py4j.commands.CallCommand.execute(CallCommand.java:79)\r\n\tat py4j.GatewayConnection.run(GatewayConnection.java:238)\r\n\tat java.lang.Thread.run(Thread.java:748)\r\n",
     "output_type": "error",
     "traceback": [
      "\u001b[1;31m---------------------------------------------------------------------------\u001b[0m",
      "\u001b[1;31mPy4JJavaError\u001b[0m                             Traceback (most recent call last)",
      "Input \u001b[1;32mIn [59]\u001b[0m, in \u001b[0;36m<module>\u001b[1;34m\u001b[0m\n\u001b[0;32m      2\u001b[0m \u001b[38;5;28;01mfrom\u001b[39;00m \u001b[38;5;21;01mpyspark\u001b[39;00m \u001b[38;5;28;01mimport\u001b[39;00m SparkContext\n\u001b[0;32m      3\u001b[0m sc \u001b[38;5;241m=\u001b[39m SparkContext\u001b[38;5;241m.\u001b[39mgetOrCreate();\n\u001b[1;32m----> 4\u001b[0m sameModel \u001b[38;5;241m=\u001b[39m \u001b[43mDecisionTreeModel\u001b[49m\u001b[38;5;241;43m.\u001b[39;49m\u001b[43mload\u001b[49m\u001b[43m(\u001b[49m\u001b[43msc\u001b[49m\u001b[43m,\u001b[49m\u001b[43m \u001b[49m\u001b[38;5;124;43m\"\u001b[39;49m\u001b[38;5;124;43m/tmp/nb.model\u001b[39;49m\u001b[38;5;124;43m\"\u001b[39;49m\u001b[43m)\u001b[49m\n",
      "File \u001b[1;32mG:\\spark\\spark-3.0.3-bin-hadoop2.7\\python\\pyspark\\mllib\\util.py:459\u001b[0m, in \u001b[0;36mJavaLoader.load\u001b[1;34m(cls, sc, path)\u001b[0m\n\u001b[0;32m    455\u001b[0m \u001b[38;5;129m@classmethod\u001b[39m\n\u001b[0;32m    456\u001b[0m \u001b[38;5;129m@since\u001b[39m(\u001b[38;5;124m\"\u001b[39m\u001b[38;5;124m1.3.0\u001b[39m\u001b[38;5;124m\"\u001b[39m)\n\u001b[0;32m    457\u001b[0m \u001b[38;5;28;01mdef\u001b[39;00m \u001b[38;5;21mload\u001b[39m(\u001b[38;5;28mcls\u001b[39m, sc, path):\n\u001b[0;32m    458\u001b[0m     \u001b[38;5;124;03m\"\"\"Load a model from the given path.\"\"\"\u001b[39;00m\n\u001b[1;32m--> 459\u001b[0m     java_model \u001b[38;5;241m=\u001b[39m \u001b[38;5;28;43mcls\u001b[39;49m\u001b[38;5;241;43m.\u001b[39;49m\u001b[43m_load_java\u001b[49m\u001b[43m(\u001b[49m\u001b[43msc\u001b[49m\u001b[43m,\u001b[49m\u001b[43m \u001b[49m\u001b[43mpath\u001b[49m\u001b[43m)\u001b[49m\n\u001b[0;32m    460\u001b[0m     \u001b[38;5;28;01mreturn\u001b[39;00m \u001b[38;5;28mcls\u001b[39m(java_model)\n",
      "File \u001b[1;32mG:\\spark\\spark-3.0.3-bin-hadoop2.7\\python\\pyspark\\mllib\\util.py:453\u001b[0m, in \u001b[0;36mJavaLoader._load_java\u001b[1;34m(cls, sc, path)\u001b[0m\n\u001b[0;32m    451\u001b[0m \u001b[38;5;28;01mfor\u001b[39;00m name \u001b[38;5;129;01min\u001b[39;00m java_class\u001b[38;5;241m.\u001b[39msplit(\u001b[38;5;124m\"\u001b[39m\u001b[38;5;124m.\u001b[39m\u001b[38;5;124m\"\u001b[39m):\n\u001b[0;32m    452\u001b[0m     java_obj \u001b[38;5;241m=\u001b[39m \u001b[38;5;28mgetattr\u001b[39m(java_obj, name)\n\u001b[1;32m--> 453\u001b[0m \u001b[38;5;28;01mreturn\u001b[39;00m \u001b[43mjava_obj\u001b[49m\u001b[38;5;241;43m.\u001b[39;49m\u001b[43mload\u001b[49m\u001b[43m(\u001b[49m\u001b[43msc\u001b[49m\u001b[38;5;241;43m.\u001b[39;49m\u001b[43m_jsc\u001b[49m\u001b[38;5;241;43m.\u001b[39;49m\u001b[43msc\u001b[49m\u001b[43m(\u001b[49m\u001b[43m)\u001b[49m\u001b[43m,\u001b[49m\u001b[43m \u001b[49m\u001b[43mpath\u001b[49m\u001b[43m)\u001b[49m\n",
      "File \u001b[1;32mG:\\spark\\spark-3.0.3-bin-hadoop2.7\\python\\lib\\py4j-0.10.9-src.zip\\py4j\\java_gateway.py:1304\u001b[0m, in \u001b[0;36mJavaMember.__call__\u001b[1;34m(self, *args)\u001b[0m\n\u001b[0;32m   1298\u001b[0m command \u001b[38;5;241m=\u001b[39m proto\u001b[38;5;241m.\u001b[39mCALL_COMMAND_NAME \u001b[38;5;241m+\u001b[39m\\\n\u001b[0;32m   1299\u001b[0m     \u001b[38;5;28mself\u001b[39m\u001b[38;5;241m.\u001b[39mcommand_header \u001b[38;5;241m+\u001b[39m\\\n\u001b[0;32m   1300\u001b[0m     args_command \u001b[38;5;241m+\u001b[39m\\\n\u001b[0;32m   1301\u001b[0m     proto\u001b[38;5;241m.\u001b[39mEND_COMMAND_PART\n\u001b[0;32m   1303\u001b[0m answer \u001b[38;5;241m=\u001b[39m \u001b[38;5;28mself\u001b[39m\u001b[38;5;241m.\u001b[39mgateway_client\u001b[38;5;241m.\u001b[39msend_command(command)\n\u001b[1;32m-> 1304\u001b[0m return_value \u001b[38;5;241m=\u001b[39m \u001b[43mget_return_value\u001b[49m\u001b[43m(\u001b[49m\n\u001b[0;32m   1305\u001b[0m \u001b[43m    \u001b[49m\u001b[43manswer\u001b[49m\u001b[43m,\u001b[49m\u001b[43m \u001b[49m\u001b[38;5;28;43mself\u001b[39;49m\u001b[38;5;241;43m.\u001b[39;49m\u001b[43mgateway_client\u001b[49m\u001b[43m,\u001b[49m\u001b[43m \u001b[49m\u001b[38;5;28;43mself\u001b[39;49m\u001b[38;5;241;43m.\u001b[39;49m\u001b[43mtarget_id\u001b[49m\u001b[43m,\u001b[49m\u001b[43m \u001b[49m\u001b[38;5;28;43mself\u001b[39;49m\u001b[38;5;241;43m.\u001b[39;49m\u001b[43mname\u001b[49m\u001b[43m)\u001b[49m\n\u001b[0;32m   1307\u001b[0m \u001b[38;5;28;01mfor\u001b[39;00m temp_arg \u001b[38;5;129;01min\u001b[39;00m temp_args:\n\u001b[0;32m   1308\u001b[0m     temp_arg\u001b[38;5;241m.\u001b[39m_detach()\n",
      "File \u001b[1;32mG:\\spark\\spark-3.0.3-bin-hadoop2.7\\python\\pyspark\\sql\\utils.py:128\u001b[0m, in \u001b[0;36mcapture_sql_exception.<locals>.deco\u001b[1;34m(*a, **kw)\u001b[0m\n\u001b[0;32m    126\u001b[0m \u001b[38;5;28;01mdef\u001b[39;00m \u001b[38;5;21mdeco\u001b[39m(\u001b[38;5;241m*\u001b[39ma, \u001b[38;5;241m*\u001b[39m\u001b[38;5;241m*\u001b[39mkw):\n\u001b[0;32m    127\u001b[0m     \u001b[38;5;28;01mtry\u001b[39;00m:\n\u001b[1;32m--> 128\u001b[0m         \u001b[38;5;28;01mreturn\u001b[39;00m \u001b[43mf\u001b[49m\u001b[43m(\u001b[49m\u001b[38;5;241;43m*\u001b[39;49m\u001b[43ma\u001b[49m\u001b[43m,\u001b[49m\u001b[43m \u001b[49m\u001b[38;5;241;43m*\u001b[39;49m\u001b[38;5;241;43m*\u001b[39;49m\u001b[43mkw\u001b[49m\u001b[43m)\u001b[49m\n\u001b[0;32m    129\u001b[0m     \u001b[38;5;28;01mexcept\u001b[39;00m py4j\u001b[38;5;241m.\u001b[39mprotocol\u001b[38;5;241m.\u001b[39mPy4JJavaError \u001b[38;5;28;01mas\u001b[39;00m e:\n\u001b[0;32m    130\u001b[0m         converted \u001b[38;5;241m=\u001b[39m convert_exception(e\u001b[38;5;241m.\u001b[39mjava_exception)\n",
      "File \u001b[1;32mG:\\spark\\spark-3.0.3-bin-hadoop2.7\\python\\lib\\py4j-0.10.9-src.zip\\py4j\\protocol.py:326\u001b[0m, in \u001b[0;36mget_return_value\u001b[1;34m(answer, gateway_client, target_id, name)\u001b[0m\n\u001b[0;32m    324\u001b[0m value \u001b[38;5;241m=\u001b[39m OUTPUT_CONVERTER[\u001b[38;5;28mtype\u001b[39m](answer[\u001b[38;5;241m2\u001b[39m:], gateway_client)\n\u001b[0;32m    325\u001b[0m \u001b[38;5;28;01mif\u001b[39;00m answer[\u001b[38;5;241m1\u001b[39m] \u001b[38;5;241m==\u001b[39m REFERENCE_TYPE:\n\u001b[1;32m--> 326\u001b[0m     \u001b[38;5;28;01mraise\u001b[39;00m Py4JJavaError(\n\u001b[0;32m    327\u001b[0m         \u001b[38;5;124m\"\u001b[39m\u001b[38;5;124mAn error occurred while calling \u001b[39m\u001b[38;5;132;01m{0}\u001b[39;00m\u001b[38;5;132;01m{1}\u001b[39;00m\u001b[38;5;132;01m{2}\u001b[39;00m\u001b[38;5;124m.\u001b[39m\u001b[38;5;130;01m\\n\u001b[39;00m\u001b[38;5;124m\"\u001b[39m\u001b[38;5;241m.\u001b[39m\n\u001b[0;32m    328\u001b[0m         \u001b[38;5;28mformat\u001b[39m(target_id, \u001b[38;5;124m\"\u001b[39m\u001b[38;5;124m.\u001b[39m\u001b[38;5;124m\"\u001b[39m, name), value)\n\u001b[0;32m    329\u001b[0m \u001b[38;5;28;01melse\u001b[39;00m:\n\u001b[0;32m    330\u001b[0m     \u001b[38;5;28;01mraise\u001b[39;00m Py4JError(\n\u001b[0;32m    331\u001b[0m         \u001b[38;5;124m\"\u001b[39m\u001b[38;5;124mAn error occurred while calling \u001b[39m\u001b[38;5;132;01m{0}\u001b[39;00m\u001b[38;5;132;01m{1}\u001b[39;00m\u001b[38;5;132;01m{2}\u001b[39;00m\u001b[38;5;124m. Trace:\u001b[39m\u001b[38;5;130;01m\\n\u001b[39;00m\u001b[38;5;132;01m{3}\u001b[39;00m\u001b[38;5;130;01m\\n\u001b[39;00m\u001b[38;5;124m\"\u001b[39m\u001b[38;5;241m.\u001b[39m\n\u001b[0;32m    332\u001b[0m         \u001b[38;5;28mformat\u001b[39m(target_id, \u001b[38;5;124m\"\u001b[39m\u001b[38;5;124m.\u001b[39m\u001b[38;5;124m\"\u001b[39m, name, value))\n",
      "\u001b[1;31mPy4JJavaError\u001b[0m: An error occurred while calling z:org.apache.spark.mllib.tree.model.DecisionTreeModel.load.\n: java.lang.UnsupportedOperationException: empty collection\r\n\tat org.apache.spark.rdd.RDD.$anonfun$first$1(RDD.scala:1439)\r\n\tat org.apache.spark.rdd.RDDOperationScope$.withScope(RDDOperationScope.scala:151)\r\n\tat org.apache.spark.rdd.RDDOperationScope$.withScope(RDDOperationScope.scala:112)\r\n\tat org.apache.spark.rdd.RDD.withScope(RDD.scala:388)\r\n\tat org.apache.spark.rdd.RDD.first(RDD.scala:1437)\r\n\tat org.apache.spark.mllib.util.Loader$.loadMetadata(modelSaveLoad.scala:120)\r\n\tat org.apache.spark.mllib.tree.model.DecisionTreeModel$.load(DecisionTreeModel.scala:316)\r\n\tat org.apache.spark.mllib.tree.model.DecisionTreeModel.load(DecisionTreeModel.scala)\r\n\tat sun.reflect.NativeMethodAccessorImpl.invoke0(Native Method)\r\n\tat sun.reflect.NativeMethodAccessorImpl.invoke(NativeMethodAccessorImpl.java:62)\r\n\tat sun.reflect.DelegatingMethodAccessorImpl.invoke(DelegatingMethodAccessorImpl.java:43)\r\n\tat java.lang.reflect.Method.invoke(Method.java:498)\r\n\tat py4j.reflection.MethodInvoker.invoke(MethodInvoker.java:244)\r\n\tat py4j.reflection.ReflectionEngine.invoke(ReflectionEngine.java:357)\r\n\tat py4j.Gateway.invoke(Gateway.java:282)\r\n\tat py4j.commands.AbstractCommand.invokeMethod(AbstractCommand.java:132)\r\n\tat py4j.commands.CallCommand.execute(CallCommand.java:79)\r\n\tat py4j.GatewayConnection.run(GatewayConnection.java:238)\r\n\tat java.lang.Thread.run(Thread.java:748)\r\n"
     ]
    }
   ],
   "source": [
    "from pyspark.mllib.tree import DecisionTree, DecisionTreeModel\n",
    "from pyspark import SparkContext\n",
    "sc = SparkContext.getOrCreate();\n",
    "sameModel = DecisionTreeModel.load(sc, \"/tmp/nb.model\")\n"
   ]
  },
  {
   "cell_type": "code",
   "execution_count": 60,
   "id": "fa62e272",
   "metadata": {},
   "outputs": [
    {
     "ename": "TypeError",
     "evalue": "save() takes 2 positional arguments but 3 were given",
     "output_type": "error",
     "traceback": [
      "\u001b[1;31m---------------------------------------------------------------------------\u001b[0m",
      "\u001b[1;31mTypeError\u001b[0m                                 Traceback (most recent call last)",
      "Input \u001b[1;32mIn [60]\u001b[0m, in \u001b[0;36m<module>\u001b[1;34m\u001b[0m\n\u001b[0;32m      2\u001b[0m \u001b[38;5;28;01mfrom\u001b[39;00m \u001b[38;5;21;01mpyspark\u001b[39;00m \u001b[38;5;28;01mimport\u001b[39;00m SparkContext\n\u001b[0;32m      3\u001b[0m sc \u001b[38;5;241m=\u001b[39m SparkContext\u001b[38;5;241m.\u001b[39mgetOrCreate();\n\u001b[1;32m----> 4\u001b[0m \u001b[43mmodelNaiveBayes\u001b[49m\u001b[38;5;241;43m.\u001b[39;49m\u001b[43msave\u001b[49m\u001b[43m(\u001b[49m\u001b[43msc\u001b[49m\u001b[43m,\u001b[49m\u001b[43m \u001b[49m\u001b[38;5;124;43m\"\u001b[39;49m\u001b[38;5;124;43m/local/nb.model\u001b[39;49m\u001b[38;5;124;43m\"\u001b[39;49m\u001b[43m)\u001b[49m\n",
      "\u001b[1;31mTypeError\u001b[0m: save() takes 2 positional arguments but 3 were given"
     ]
    }
   ],
   "source": [
    "from pyspark.mllib.tree import DecisionTree, DecisionTreeModel\n",
    "from pyspark import SparkContext\n",
    "sc = SparkContext.getOrCreate();\n",
    "modelNaiveBayes.save(sc, \"/local/nb.model\")"
   ]
  },
  {
   "cell_type": "code",
   "execution_count": 43,
   "id": "b18c599a",
   "metadata": {},
   "outputs": [
    {
     "name": "stdout",
     "output_type": "stream",
     "text": [
      "0.4138795673819817\n"
     ]
    }
   ],
   "source": [
    "modelDecisionTree = dt.fit(assembleredTrainData)\n",
    "predictions = modelDecisionTree.transform(assembleredTestData)\n",
    "accuracy = evaluator.evaluate(predictions)\n",
    "print(accuracy)"
   ]
  },
  {
   "cell_type": "code",
   "execution_count": 65,
   "id": "94720a8d",
   "metadata": {},
   "outputs": [],
   "source": [
    "import time\n",
    "accuracyMLLIBNaiveBayesList = []\n",
    "accuracyBuildNaiveBayesList = []\n",
    "accuracyMLIBDecisionTreeList = []\n",
    "timeMLLIBNaiveBayesList = []\n",
    "timeBuildNaiveBayesList = []\n",
    "timeMLIBDecisionTreeList = []\n",
    "for i in range(10):\n",
    "    trainData, testData = balancedData.randomSplit([0.7, 0.3])\n",
    "#   For mllib \n",
    "    assembleredTestData = featureAssembler.transform(testData)\n",
    "    assembleredTestData = assembleredTestData.drop(*columns_to_drop)\n",
    "    assembleredTrainData = featureAssembler.transform(trainData)\n",
    "    assembleredTrainData = assembleredTrainData.drop(*columns_to_drop)\n",
    "#   Builded Naive Bayes\n",
    "    start_time = time.time()\n",
    "    accuracy, tree_cm = evaluate_algorithm(trainData, testData, naive_bayes)\n",
    "    end_time = time.time()\n",
    "    accuracyBuildNaiveBayesList.append(accuracy)\n",
    "    timeBuildNaiveBayesList.append(end_time - start_time)\n",
    "#   MLLIB NaiveBayes\n",
    "    start_time = time.time()\n",
    "    modelNaiveBayes = nb.fit(assembleredTrainData)\n",
    "    predictions = modelNaiveBayes.transform(assembleredTestData)\n",
    "    end_time = time.time()\n",
    "    accuracy = evaluator.evaluate(predictions)\n",
    "    accuracyMLLIBNaiveBayesList.append(accuracy * 100)\n",
    "    timeMLLIBNaiveBayesList.append(end_time - start_time)\n",
    "#   MLLIB Decision Tree\n",
    "    start_time = time.time()\n",
    "    modelDecisionTree = dt.fit(assembleredTrainData)\n",
    "    predictions = modelDecisionTree.transform(assembleredTestData)\n",
    "    end_time = time.time()\n",
    "    accuracy = evaluator.evaluate(predictions)\n",
    "    accuracyMLIBDecisionTreeList.append(accuracy * 100)\n",
    "    timeMLIBDecisionTreeList.append(end_time - start_time)\n",
    "     "
   ]
  },
  {
   "cell_type": "code",
   "execution_count": null,
   "id": "440fd681",
   "metadata": {},
   "outputs": [],
   "source": []
  }
 ],
 "metadata": {
  "kernelspec": {
   "display_name": "Python 3",
   "language": "python",
   "name": "python3"
  },
  "language_info": {
   "codemirror_mode": {
    "name": "ipython",
    "version": 3
   },
   "file_extension": ".py",
   "mimetype": "text/x-python",
   "name": "python",
   "nbconvert_exporter": "python",
   "pygments_lexer": "ipython3",
   "version": "3.8.1"
  }
 },
 "nbformat": 4,
 "nbformat_minor": 5
}
